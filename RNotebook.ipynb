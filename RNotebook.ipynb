{
  "nbformat": 4,
  "nbformat_minor": 0,
  "metadata": {
    "kernelspec": {
      "display_name": "R",
      "language": "R",
      "name": "ir"
    },
    "language_info": {
      "codemirror_mode": "r",
      "file_extension": ".r",
      "mimetype": "text/x-r-source",
      "name": "R",
      "pygments_lexer": "r",
      "version": "3.3.1"
    },
    "colab": {
      "provenance": [],
      "include_colab_link": true
    }
  },
  "cells": [
    {
      "cell_type": "markdown",
      "metadata": {
        "id": "view-in-github",
        "colab_type": "text"
      },
      "source": [
        "<a href=\"https://colab.research.google.com/github/Deeksha040/Statistics/blob/main/RNotebook.ipynb\" target=\"_parent\"><img src=\"https://colab.research.google.com/assets/colab-badge.svg\" alt=\"Open In Colab\"/></a>"
      ]
    },
    {
      "cell_type": "markdown",
      "metadata": {
        "id": "uQnihJUtfCTC"
      },
      "source": [
        "Below are relevant functions in R for a binomial RV X~Bin(n,p)\n",
        "\n",
        "dbinom(a, size=n, prob=p): compute Pr(X=a);\n",
        "\n",
        "pbinom(a, size=n, prob=p): compute Pr(X<=a);\n",
        "\n",
        "pbinom(a, size=n, prob=p, lower.tail = False): compute Pr(X>=a)\n",
        "\n",
        "qbinom(q, size=n, prob=p): find the smallest a satisfying Pr(X≤a)=q;\n",
        "\n",
        "rbinom(N, size=n, prob=p): generate N independent random values of X."
      ]
    },
    {
      "cell_type": "code",
      "metadata": {
        "id": "I_CfOOvk1nxJ",
        "colab": {
          "base_uri": "https://localhost:8080/",
          "height": 34
        },
        "outputId": "514fe5ed-4fb9-4343-bc83-83497ef09ace"
      },
      "source": [
        "# Binomial random variable with parameters n=12 and p=0.2\n",
        "# We want to calculate P(X=4)\n",
        "n=12\n",
        "p=0.2\n",
        "a=4\n",
        "dbinom(a, n, p)"
      ],
      "execution_count": null,
      "outputs": [
        {
          "output_type": "display_data",
          "data": {
            "text/plain": [
              "[1] 0.1328756"
            ],
            "text/latex": "0.13287555072",
            "text/markdown": "0.13287555072",
            "text/html": [
              "0.13287555072"
            ]
          },
          "metadata": {
            "tags": []
          }
        }
      ]
    },
    {
      "cell_type": "code",
      "metadata": {
        "id": "ZrQktCnZ1yZS",
        "colab": {
          "base_uri": "https://localhost:8080/",
          "height": 34
        },
        "outputId": "11c7a9f6-2277-4237-bed6-0fa3bf17265b"
      },
      "source": [
        "# What about P(X<=4)?\n",
        "a=4\n",
        "pbinom(a, n, p)"
      ],
      "execution_count": null,
      "outputs": [
        {
          "output_type": "display_data",
          "data": {
            "text/plain": [
              "[1] 0.9274445"
            ],
            "text/latex": "0.92744450048",
            "text/markdown": "0.92744450048",
            "text/html": [
              "0.92744450048"
            ]
          },
          "metadata": {
            "tags": []
          }
        }
      ]
    },
    {
      "cell_type": "code",
      "metadata": {
        "id": "vr-qD_mpfuVf",
        "colab": {
          "base_uri": "https://localhost:8080/",
          "height": 34
        },
        "outputId": "5a17a25c-3357-4fe4-e378-5d1fc1ba9e87"
      },
      "source": [
        "# What about P(3<=X<=4)?\n",
        "pbinom(4, n, p)-pbinom(2, n, p)"
      ],
      "execution_count": null,
      "outputs": [
        {
          "output_type": "display_data",
          "data": {
            "text/plain": [
              "[1] 0.3690988"
            ],
            "text/latex": "0.369098752",
            "text/markdown": "0.369098752",
            "text/html": [
              "0.369098752"
            ]
          },
          "metadata": {
            "tags": []
          }
        }
      ]
    },
    {
      "cell_type": "code",
      "metadata": {
        "id": "-de_s2M1fwjy",
        "colab": {
          "base_uri": "https://localhost:8080/",
          "height": 874
        },
        "outputId": "865fa9c0-4f04-45d5-9e65-6546cf1531c0"
      },
      "source": [
        "# Simulate N = 10000 samples of binomial random variable with\n",
        "# parameters n = 12, p = 0.2\n",
        "n = 12\n",
        "p = 0.2\n",
        "N = 10000\n",
        "bindat<-rbinom(N, n, p)\n",
        "hist(bindat, breaks=seq(0,12,1))\n",
        "mean(bindat == 4)"
      ],
      "execution_count": null,
      "outputs": [
        {
          "output_type": "display_data",
          "data": {
            "text/plain": [
              "[1] 0.1359"
            ],
            "text/latex": "0.1359",
            "text/markdown": "0.1359",
            "text/html": [
              "0.1359"
            ]
          },
          "metadata": {
            "tags": []
          }
        },
        {
          "output_type": "display_data",
          "data": {
            "image/png": "[encoded data removed]",
            "text/plain": [
              "Plot with title “Histogram of bindat”"
            ]
          },
          "metadata": {
            "tags": []
          }
        }
      ]
    },
    {
      "cell_type": "code",
      "metadata": {
        "id": "-bIVoZTuf2er",
        "colab": {
          "base_uri": "https://localhost:8080/",
          "height": 874
        },
        "outputId": "3c327fa4-a809-4280-9b19-4b4a69c0b8aa"
      },
      "source": [
        "# Simulate N = 10000 samples of Bernoulli random variable with\n",
        "# parameter p = 0.2. This is a special case of binomial\n",
        "# with n = 1\n",
        "N = 10000\n",
        "bindat<-rbinom(N, 1, p)\n",
        "hist(bindat, breaks=seq(0,1,0.5))\n",
        "mean(bindat == 1)"
      ],
      "execution_count": null,
      "outputs": [
        {
          "output_type": "display_data",
          "data": {
            "text/plain": [
              "[1] 0.2049"
            ],
            "text/latex": "0.2049",
            "text/markdown": "0.2049",
            "text/html": [
              "0.2049"
            ]
          },
          "metadata": {
            "tags": []
          }
        },
        {
          "output_type": "display_data",
          "data": {
            "image/png": "[encoded data removed]",
            "text/plain": [
              "Plot with title “Histogram of bindat”"
            ]
          },
          "metadata": {
            "tags": []
          }
        }
      ]
    },
    {
      "cell_type": "code",
      "metadata": {
        "id": "VhqrGxZOg6Jp",
        "colab": {
          "base_uri": "https://localhost:8080/",
          "height": 50
        },
        "outputId": "7096e4e1-d635-4382-c4cc-85999915dfd9"
      },
      "source": [
        "# What is the probability of >=5 heads in 10 coin flips\n",
        "# where probability of heads is 0.3?\n",
        "n = 10\n",
        "p = 0.3\n",
        "a = 5\n",
        "\n",
        "# exact\n",
        "pbinom(a, n, p, lower.tail  = FALSE)\n",
        "\n",
        "# simulated\n",
        "N = 10000\n",
        "mean(rbinom(N, n, p) >= 5)"
      ],
      "execution_count": null,
      "outputs": [
        {
          "output_type": "display_data",
          "data": {
            "text/plain": [
              "[1] 0.04734899"
            ],
            "text/latex": "0.0473489874",
            "text/markdown": "0.0473489874",
            "text/html": [
              "0.0473489874"
            ]
          },
          "metadata": {
            "tags": []
          }
        },
        {
          "output_type": "display_data",
          "data": {
            "text/plain": [
              "[1] 0.1531"
            ],
            "text/latex": "0.1531",
            "text/markdown": "0.1531",
            "text/html": [
              "0.1531"
            ]
          },
          "metadata": {
            "tags": []
          }
        }
      ]
    },
    {
      "cell_type": "code",
      "metadata": {
        "id": "lY7qgE2fhCGk",
        "colab": {
          "base_uri": "https://localhost:8080/",
          "height": 34
        },
        "outputId": "279c5249-9f43-4e52-f69e-49dd7a64c125"
      },
      "source": [
        "# Negative binomial random variable with parameters r=4 and p=0.2\n",
        "# We want to calculate P(X=12)\n",
        "r=4\n",
        "p=0.2\n",
        "a=12\n",
        "dnbinom(a, r, p)"
      ],
      "execution_count": null,
      "outputs": [
        {
          "output_type": "display_data",
          "data": {
            "text/plain": [
              "[1] 0.05002778"
            ],
            "text/latex": "0.050027779063808",
            "text/markdown": "0.050027779063808",
            "text/html": [
              "0.050027779063808"
            ]
          },
          "metadata": {
            "tags": []
          }
        }
      ]
    },
    {
      "cell_type": "code",
      "metadata": {
        "id": "ELErrJAihDZw",
        "colab": {
          "base_uri": "https://localhost:8080/",
          "height": 34
        },
        "outputId": "fac0d66e-0468-4844-844c-84af4a9fa599"
      },
      "source": [
        "# What about P(X<=12)?\n",
        "a=12\n",
        "pnbinom(a, r, p)"
      ],
      "execution_count": null,
      "outputs": [
        {
          "output_type": "display_data",
          "data": {
            "text/plain": [
              "[1] 0.4018657"
            ],
            "text/latex": "0.401865674489856",
            "text/markdown": "0.401865674489856",
            "text/html": [
              "0.401865674489856"
            ]
          },
          "metadata": {
            "tags": []
          }
        }
      ]
    },
    {
      "cell_type": "code",
      "metadata": {
        "id": "oFMYjSyMhHTO",
        "colab": {
          "base_uri": "https://localhost:8080/",
          "height": 874
        },
        "outputId": "623c78bd-c9f4-475c-bb48-3a541535e1c1"
      },
      "source": [
        "# Simulate 10000 samples of binomial random variable with parameters r, p\n",
        "N = 10000\n",
        "bindat<-rnbinom(N, r, p)\n",
        "hist(bindat)\n",
        "mean(bindat == 5)"
      ],
      "execution_count": null,
      "outputs": [
        {
          "output_type": "display_data",
          "data": {
            "text/plain": [
              "[1] 0.0279"
            ],
            "text/latex": "0.0279",
            "text/markdown": "0.0279",
            "text/html": [
              "0.0279"
            ]
          },
          "metadata": {
            "tags": []
          }
        },
        {
          "output_type": "display_data",
          "data": {
            "image/png": "[encoded data removed]",
            "text/plain": [
              "Plot with title “Histogram of bindat”"
            ]
          },
          "metadata": {
            "tags": []
          }
        }
      ]
    },
    {
      "cell_type": "code",
      "metadata": {
        "id": "cq0yGQnAh4aZ",
        "colab": {
          "base_uri": "https://localhost:8080/",
          "height": 857
        },
        "outputId": "4a498bb9-7da6-402d-e0ab-8dc8feca84f9"
      },
      "source": [
        "# Plot the probability mass function (PMF) of a\n",
        "# binomial random variable with parameters n=12 and p=0.2\n",
        "# assign the probabilities\n",
        "n = 12\n",
        "p = 0.2\n",
        "a = 0:n\n",
        "probability <- dbinom(a, n, p)\n",
        "plot(x = a, y = probability, type = \"p\", main = \"Probability Distribution Function\")"
      ],
      "execution_count": null,
      "outputs": [
        {
          "output_type": "display_data",
          "data": {
            "image/png": "[encoded data removed]",
            "text/plain": [
              "Plot with title “Probability Distribution Function”"
            ]
          },
          "metadata": {
            "tags": []
          }
        }
      ]
    },
    {
      "cell_type": "code",
      "metadata": {
        "id": "NeTRCtH0il8c",
        "colab": {
          "base_uri": "https://localhost:8080/",
          "height": 857
        },
        "outputId": "67cf0885-792e-4f46-fc9d-c51459626a7c"
      },
      "source": [
        "# Plot the cumulative distribution function (CDF) of a\n",
        "# binomial random variable with parameters n=12 and p=0.2\n",
        "# assign the probabilities\n",
        "n = 12\n",
        "p = 0.2\n",
        "a = 0:n\n",
        "probability <- pbinom(a, n, p)\n",
        "plot(x = a, y = probability, main = \"Probability Distribution Function\")"
      ],
      "execution_count": null,
      "outputs": [
        {
          "output_type": "display_data",
          "data": {
            "image/png": "[encoded data removed]",
            "text/plain": [
              "Plot with title “Probability Distribution Function”"
            ]
          },
          "metadata": {
            "tags": []
          }
        }
      ]
    },
    {
      "cell_type": "code",
      "metadata": {
        "id": "hSlxLfOxozsE",
        "colab": {
          "base_uri": "https://localhost:8080/",
          "height": 34
        },
        "outputId": "fab9d062-9b5e-442a-840e-3611ab21f992"
      },
      "source": [
        "# Poisson random variable with parameter lambda = 8\n",
        "# We want P(X = 4)\n",
        "lambda = 8\n",
        "a = 4\n",
        "dpois(a, lambda)"
      ],
      "execution_count": null,
      "outputs": [
        {
          "output_type": "display_data",
          "data": {
            "text/plain": [
              "[1] 0.05725229"
            ],
            "text/latex": "0.057252288495362",
            "text/markdown": "0.057252288495362",
            "text/html": [
              "0.057252288495362"
            ]
          },
          "metadata": {
            "tags": []
          }
        }
      ]
    },
    {
      "cell_type": "code",
      "metadata": {
        "id": "yydlj6qMph1R",
        "colab": {
          "base_uri": "https://localhost:8080/",
          "height": 34
        },
        "outputId": "f322f787-8bf5-44c6-c175-43480b601e01"
      },
      "source": [
        "# What about P(X<=4)\n",
        "ppois(a, lambda)\n"
      ],
      "execution_count": null,
      "outputs": [
        {
          "output_type": "display_data",
          "data": {
            "text/plain": [
              "[1] 0.0996324"
            ],
            "text/latex": "0.0996324004870461",
            "text/markdown": "0.0996324004870461",
            "text/html": [
              "0.0996324004870461"
            ]
          },
          "metadata": {
            "tags": []
          }
        }
      ]
    },
    {
      "cell_type": "code",
      "metadata": {
        "id": "R-NaQtPqqFbe",
        "colab": {
          "base_uri": "https://localhost:8080/",
          "height": 218
        },
        "outputId": "98f261d4-c9b8-458e-d712-1b23157278b4"
      },
      "source": [
        "# Poisson vs. Binomial\n",
        "tab.df <- data.frame(\n",
        "  k <- seq(1:8),\n",
        "  bin1 <- dbinom(seq(1:8), size=40, prob=0.01),\n",
        "  bin2 <- dbinom(seq(1:8), size=4000, prob=0.0001),\n",
        "  poi <- dpois(seq(1:8), lambda=0.4)\n",
        ")\n",
        "names(tab.df) <- c(\"k\",\"Bin(n=40, p=0.01)\",\"Bin(n=4000, p=0.0001)\", \"Poi(lambda=0.4)\")\n",
        "knitr::kable(tab.df)"
      ],
      "execution_count": null,
      "outputs": [
        {
          "output_type": "display_data",
          "data": {
            "text/plain": [
              "\n",
              "\n",
              "|  k| Bin(n=40, p=0.01)| Bin(n=4000, p=0.0001)| Poi(lambda=0.4)|\n",
              "|--:|-----------------:|---------------------:|---------------:|\n",
              "|  1|         0.2702916|             0.2681495|       0.2681280|\n",
              "|  2|         0.0532393|             0.0536218|       0.0536256|\n",
              "|  3|         0.0068118|             0.0071467|       0.0071501|\n",
              "|  4|         0.0006365|             0.0007142|       0.0007150|\n",
              "|  5|         0.0000463|             0.0000571|       0.0000572|\n",
              "|  6|         0.0000027|             0.0000038|       0.0000038|\n",
              "|  7|         0.0000001|             0.0000002|       0.0000002|\n",
              "|  8|         0.0000000|             0.0000000|       0.0000000|"
            ]
          },
          "metadata": {
            "tags": []
          }
        }
      ]
    },
    {
      "cell_type": "code",
      "metadata": {
        "id": "xncVFVF-q7BW",
        "colab": {
          "base_uri": "https://localhost:8080/",
          "height": 34
        },
        "outputId": "aff2b4b5-40d5-4c60-fd75-60dc579ecc98"
      },
      "source": [
        "# If there are twelve cars crossing a bridge per minute\n",
        "# on average, find the probability of having seventeen\n",
        "# or more cars crossing the bridge in a particular minute\n",
        "lambda = 12\n",
        "a = 16\n",
        "\n",
        "ppois(a, lambda, lower.tail=FALSE)   # upper tail"
      ],
      "execution_count": null,
      "outputs": [
        {
          "output_type": "display_data",
          "data": {
            "text/plain": [
              "[1] 0.101291"
            ],
            "text/latex": "0.101291007439838",
            "text/markdown": "0.101291007439838",
            "text/html": [
              "0.101291007439838"
            ]
          },
          "metadata": {
            "tags": []
          }
        }
      ]
    },
    {
      "cell_type": "code",
      "metadata": {
        "id": "1p6CDSyIhZzx",
        "colab": {
          "base_uri": "https://localhost:8080/",
          "height": 34
        },
        "outputId": "50175778-80cd-42e7-f2c3-ab2cde7a91d8"
      },
      "source": [
        "# Hypergeometric random variable\n",
        "#What is the probability of selecting a = 14 red marbles from a sample\n",
        "# of n = 20 taken from an urn containing 70 red marbles\n",
        "# and 30 green marbles?\n",
        "\n",
        "a = 14\n",
        "n = 20\n",
        "r = 70\n",
        "s = 30\n",
        "\n",
        "dhyper(a, r, s, n)"
      ],
      "execution_count": null,
      "outputs": [
        {
          "output_type": "display_data",
          "data": {
            "text/plain": [
              "[1] 0.2140911"
            ],
            "text/latex": "0.214091062978847",
            "text/markdown": "0.214091062978847",
            "text/html": [
              "0.214091062978847"
            ]
          },
          "metadata": {
            "tags": []
          }
        }
      ]
    },
    {
      "cell_type": "code",
      "metadata": {
        "id": "FQtHCzOnheDe"
      },
      "source": [
        "# A small voting district has 101 female voters and 95 male voters.\n",
        "#A random sample of 10 voters is drawn. What is the probability exactly 7 of the\n",
        "# voters will be female?"
      ],
      "execution_count": null,
      "outputs": []
    },
    {
      "cell_type": "markdown",
      "metadata": {
        "id": "xYemOX0ooyFf"
      },
      "source": [
        "Simulations using a user-defined discrete distribution:\n",
        "\n",
        "Consider a discrete random variable with probability mass function given by the following:\n",
        "\n",
        "x p(x)\n",
        "\n",
        "------\n",
        "\n",
        "1 0.6\n",
        "\n",
        "\n",
        "3 0.3\n",
        "\n",
        "5 0.1\n",
        "\n",
        "Simulate 500 values from this distribution and plot a histogram. Compute mean and variance using the simulated samples."
      ]
    },
    {
      "cell_type": "code",
      "metadata": {
        "id": "2siKySX_oxe2",
        "colab": {
          "base_uri": "https://localhost:8080/",
          "height": 907
        },
        "outputId": "e5517165-2d67-400f-8243-af325a05684e"
      },
      "source": [
        "x = c(1, 3, 5)\n",
        "px = c(0.6, 0.3, 0.1)\n",
        "\n",
        "# Simulate N = 500 samples\n",
        "bindat = sample(x, 500, replace = TRUE, prob = px)\n",
        "\n",
        "# Plot histogram\n",
        "hist(bindat, breaks = seq(1, 5, by = 0.25), main = \"500 discrete draws\")\n",
        "\n",
        "# Approximate value of P(X=1)\n",
        "mean(bindat == 1)\n",
        "\n",
        "# Mean or expected value\n",
        "mean(bindat)\n",
        "\n",
        "# Variance\n",
        "var(bindat)"
      ],
      "execution_count": null,
      "outputs": [
        {
          "output_type": "display_data",
          "data": {
            "text/plain": [
              "[1] 0.63"
            ],
            "text/latex": "0.63",
            "text/markdown": "0.63",
            "text/html": [
              "0.63"
            ]
          },
          "metadata": {
            "tags": []
          }
        },
        {
          "output_type": "display_data",
          "data": {
            "text/plain": [
              "[1] 1.968"
            ],
            "text/latex": "1.968",
            "text/markdown": "1.968",
            "text/html": [
              "1.968"
            ]
          },
          "metadata": {
            "tags": []
          }
        },
        {
          "output_type": "display_data",
          "data": {
            "text/plain": [
              "[1] 1.914806"
            ],
            "text/latex": "1.91480561122244",
            "text/markdown": "1.91480561122244",
            "text/html": [
              "1.91480561122244"
            ]
          },
          "metadata": {
            "tags": []
          }
        },
        {
          "output_type": "display_data",
          "data": {
            "image/png": "[encoded data removed]",
            "text/plain": [
              "Plot with title “500 discrete draws”"
            ]
          },
          "metadata": {
            "tags": []
          }
        }
      ]
    },
    {
      "cell_type": "code",
      "metadata": {
        "id": "i0ZbO755eqWo"
      },
      "source": [],
      "execution_count": null,
      "outputs": []
    }
  ]
}