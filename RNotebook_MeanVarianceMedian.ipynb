{
  "nbformat": 4,
  "nbformat_minor": 0,
  "metadata": {
    "kernelspec": {
      "display_name": "R",
      "language": "R",
      "name": "ir"
    },
    "language_info": {
      "codemirror_mode": "r",
      "file_extension": ".r",
      "mimetype": "text/x-r-source",
      "name": "R",
      "pygments_lexer": "r",
      "version": "3.3.1"
    },
    "colab": {
      "provenance": [],
      "include_colab_link": true
    }
  },
  "cells": [
    {
      "cell_type": "markdown",
      "metadata": {
        "id": "view-in-github",
        "colab_type": "text"
      },
      "source": [
        "<a href=\"https://colab.research.google.com/github/Deeksha040/Statistics/blob/main/RNotebook_MeanVarianceMedian.ipynb\" target=\"_parent\"><img src=\"https://colab.research.google.com/assets/colab-badge.svg\" alt=\"Open In Colab\"/></a>"
      ]
    },
    {
      "cell_type": "code",
      "metadata": {
        "id": "-de_s2M1fwjy",
        "outputId": "e616955a-b1ea-4470-faf2-312bb0823cb9",
        "colab": {
          "base_uri": "https://localhost:8080/",
          "height": 890
        }
      },
      "source": [
        "# Simulate N = 10000 samples of binomial random variable with\n",
        "# parameters n = 12, p = 0.2\n",
        "n = 12\n",
        "p = 0.2\n",
        "N = 10000\n",
        "bindat = rbinom(N, n, p)\n",
        "hist(bindat, breaks=seq(0,12,0.25))\n",
        "sum(bindat==0)\n",
        "mean(bindat == 0)"
      ],
      "execution_count": null,
      "outputs": [
        {
          "output_type": "display_data",
          "data": {
            "text/plain": [
              "[1] 708"
            ],
            "text/latex": "708",
            "text/markdown": "708",
            "text/html": [
              "708"
            ]
          },
          "metadata": {
            "tags": []
          }
        },
        {
          "output_type": "display_data",
          "data": {
            "text/plain": [
              "[1] 0.0708"
            ],
            "text/latex": "0.0708",
            "text/markdown": "0.0708",
            "text/html": [
              "0.0708"
            ]
          },
          "metadata": {
            "tags": []
          }
        },
        {
          "output_type": "display_data",
          "data": {
            "image/png": "[encoded data removed]",
            "text/plain": [
              "Plot with title “Histogram of bindat”"
            ]
          },
          "metadata": {
            "tags": []
          }
        }
      ]
    },
    {
      "cell_type": "code",
      "metadata": {
        "id": "JVeFOWrX2pZd",
        "outputId": "e098f618-e0d1-4b73-ece4-0c223ec3b942",
        "colab": {
          "base_uri": "https://localhost:8080/",
          "height": 128
        }
      },
      "source": [
        "# Plot the probability mass function (PMF) of a\n",
        "# binomial random variable with parameters n=12 and p=0.2\n",
        "# assign the probabilities\n",
        "n =\n",
        "p =\n",
        "a =\n",
        "probability <- dbinom(a, n, p)\n",
        "plot(x = a, y = probability, type = \"p\", main = \"Probability Mass Function\")"
      ],
      "execution_count": null,
      "outputs": [
        {
          "output_type": "error",
          "ename": "ERROR",
          "evalue": "ignored",
          "traceback": [
            "Error in dbinom(a, n, p): object 'a' not found\nTraceback:\n",
            "1. dbinom(a, n, p)"
          ]
        }
      ]
    },
    {
      "cell_type": "code",
      "metadata": {
        "id": "NeTRCtH0il8c"
      },
      "source": [
        "# Plot the cumulative distribution function (CDF) of a\n",
        "# binomial random variable with parameters n=12 and p=0.2\n",
        "# assign the probabilities\n",
        "n = 12\n",
        "p = 0.2\n",
        "a = 0:n\n",
        "probability <- pbinom(a, n, p)\n",
        "plot(x = a, y = probability, main = \"Cumulative Distribution Function\")"
      ],
      "execution_count": null,
      "outputs": []
    },
    {
      "cell_type": "code",
      "metadata": {
        "id": "i0ZbO755eqWo",
        "colab": {
          "base_uri": "https://localhost:8080/",
          "height": 958
        },
        "outputId": "c31cd3d7-58cc-4644-8139-eceddf85cfbe"
      },
      "source": [
        "# Revenue\n",
        "a = c(0, 500, 1000, 1500, 2000)\n",
        "\n",
        "# Corresponding probabilities\n",
        "#p = c(.28, .27, .315, .09, .045)\n",
        "p=c(.045,.09,.315,.27,.28)\n",
        "#cp = c(.28, .28+.27, .28+.27+.315, .28+.27+.315+.09, .28+.27+.315+.09+.045)\n",
        "# Cumulative probabilities\n",
        "cp = cumsum(p)\n",
        "\n",
        "# Plot histogram of 10000 samples\n",
        "bindat = sample(a, size = 10000, replace = TRUE, prob = p)\n",
        "hist(bindat, breaks = 50, xlab=\"Values of X\", border=\"blue\",\n",
        "     col=\"green\",main = \"Histogram of 10000 samples\")\n",
        "\n",
        "# Calculate mean using theoretical probability\n",
        "sum(a*p)\n",
        "\n",
        "# Calculate mean using sampling\n",
        "mean(bindat)\n",
        "\n",
        "# Calculate variance and standard deviation using theoretical probability\n",
        "print(\"Theoretical\")\n",
        "asquare = a^2\n",
        "sum(asquare*p)-(sum(a*p))^2\n",
        "sqrt(sum(asquare*p)-(sum(a*p))^2)\n",
        "\n",
        "# Calculate variance and standard deviation using sampling\n",
        "print(\"Sampling\")\n",
        "#mean((?-mean(?))^2)\n",
        "#sqrt(mean((?-mean(?))^2))\n",
        "\n",
        "\n",
        "\n"
      ],
      "execution_count": null,
      "outputs": [
        {
          "output_type": "display_data",
          "data": {
            "text/plain": [
              "[1] 1325"
            ],
            "text/latex": "1325",
            "text/markdown": "1325",
            "text/html": [
              "1325"
            ]
          },
          "metadata": {
            "tags": []
          }
        },
        {
          "output_type": "display_data",
          "data": {
            "text/plain": [
              "[1] 1319.7"
            ],
            "text/latex": "1319.7",
            "text/markdown": "1319.7",
            "text/html": [
              "1319.7"
            ]
          },
          "metadata": {
            "tags": []
          }
        },
        {
          "output_type": "stream",
          "text": [
            "[1] \"Theoretical\"\n"
          ],
          "name": "stdout"
        },
        {
          "output_type": "display_data",
          "data": {
            "text/plain": [
              "[1] 309375"
            ],
            "text/latex": "309375",
            "text/markdown": "309375",
            "text/html": [
              "309375"
            ]
          },
          "metadata": {
            "tags": []
          }
        },
        {
          "output_type": "display_data",
          "data": {
            "text/plain": [
              "[1] 556.2149"
            ],
            "text/latex": "556.214886532175",
            "text/markdown": "556.214886532175",
            "text/html": [
              "556.214886532175"
            ]
          },
          "metadata": {
            "tags": []
          }
        },
        {
          "output_type": "stream",
          "text": [
            "[1] \"Sampling\"\n"
          ],
          "name": "stdout"
        },
        {
          "output_type": "display_data",
          "data": {
            "image/png": "[encoded data removed]",
            "text/plain": [
              "Plot with title “Histogram of 10000 samples”"
            ]
          },
          "metadata": {
            "tags": []
          }
        }
      ]
    },
    {
      "cell_type": "code",
      "metadata": {
        "id": "tRXwvQbTFCO8"
      },
      "source": [
        "+\n",
        "\n",
        "\n",
        "\n",
        "\n",
        "\n",
        "\n",
        "\n",
        "\n",
        "\n",
        "\n",
        "\n",
        "\n",
        "\n",
        "\n",
        "\n",
        "\n",
        "\n",
        "\n",
        "\n",
        "4; 5; 6; 6; 6; 7; 7; 7; 7; 7; 7; 8; 8; 8; 9; 10\n",
        "# 4566677778\n",
        "#67777888910\n"
      ],
      "execution_count": null,
      "outputs": []
    }
  ]
}