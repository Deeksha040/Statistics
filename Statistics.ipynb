{
  "nbformat": 4,
  "nbformat_minor": 0,
  "metadata": {
    "kernelspec": {
      "display_name": "R",
      "language": "R",
      "name": "ir"
    },
    "language_info": {
      "codemirror_mode": "r",
      "file_extension": ".r",
      "mimetype": "text/x-r-source",
      "name": "R",
      "pygments_lexer": "r",
      "version": "3.3.1"
    },
    "colab": {
      "provenance": [],
      "include_colab_link": true
    }
  },
  "cells": [
    {
      "cell_type": "markdown",
      "metadata": {
        "id": "view-in-github",
        "colab_type": "text"
      },
      "source": [
        "<a href=\"https://colab.research.google.com/github/Deeksha040/Statistics/blob/main/Statistics.ipynb\" target=\"_parent\"><img src=\"https://colab.research.google.com/assets/colab-badge.svg\" alt=\"Open In Colab\"/></a>"
      ]
    },
    {
      "cell_type": "code",
      "metadata": {
        "id": "FEqSx4DhYjPZ"
      },
      "source": [
        "library(repr)"
      ],
      "execution_count": null,
      "outputs": []
    },
    {
      "cell_type": "code",
      "metadata": {
        "id": "UFo3v8rKQM2M",
        "colab": {
          "base_uri": "https://localhost:8080/",
          "height": 581
        },
        "outputId": "e85a294f-8b6c-4262-f8ba-60465d2b193a"
      },
      "source": [
        "# Values X can take\n",
        "a = c(80, 100, 120)\n",
        "\n",
        "# Corresponding probabilities\n",
        "p = c(0.2, 0.3, 0.5)\n",
        "print(sum(p))\n",
        "\n",
        "# Create dataframe with sample values and frequencies\n",
        "bindat = sample(a, size = 10000, replace = TRUE, prob = p)\n",
        "df= as.data.frame(table(bindat))\n",
        "print(df)\n",
        "\n",
        "# Change plot size to 4 x 4 and generate barplot\n",
        "options(repr.plot.width=4, repr.plot.height=4)\n",
        "barplot(df$Freq, names.arg = df$bindat, ylim=c(0,max(df$Freq)+10),\n",
        "xlab=\"Values of X\", border=\"blue\",col=\"green\",main = \"Histogram of 10000 samples\")"
      ],
      "execution_count": null,
      "outputs": [
        {
          "output_type": "stream",
          "text": [
            "[1] 1\n",
            "  bindat Freq\n",
            "1     80 1968\n",
            "2    100 2954\n",
            "3    120 5078\n"
          ],
          "name": "stdout"
        },
        {
          "output_type": "display_data",
          "data": {
            "image/png": "[encoded data removed]",
            "text/plain": [
              "Plot with title “Histogram of 10000 samples”"
            ]
          },
          "metadata": {
            "tags": []
          }
        }
      ]
    },
    {
      "cell_type": "code",
      "metadata": {
        "id": "9psJNWa9eED2",
        "colab": {
          "base_uri": "https://localhost:8080/",
          "height": 67
        },
        "outputId": "7b902392-8d43-4b5b-eeaa-d01443cbe7d9"
      },
      "source": [
        "# Mean\n",
        "xbar = mean(bindat) # sample mean\n",
        "mu = sum(a*p) # population mean\n",
        "cat(sprintf('Mean of samples = %f, mean of distribution = %f', xbar, mu), '\\n')\n",
        "\n",
        "# Variance\n",
        "sigmabarsq = var(bindat) # sample variance\n",
        "sigmasq = sum((a**2)*p) - xbar^2 # population variance\n",
        "cat(sprintf('Variance of samples = %f, variance of distribution = %f', sigmabarsq, sigmasq), '\\n')\n",
        "\n",
        "# Std. deviation of samples\n",
        "sigmabar = sqrt(sigmabarsq)\n",
        "sigma = sqrt(sigmasq)\n",
        "cat(sprintf('Std. deviation of samples = %f, std. deviation of population = %f', sigmabar, sigma), '\\n')\n"
      ],
      "execution_count": null,
      "outputs": [
        {
          "output_type": "stream",
          "text": [
            "Mean of samples = 106.220000, mean of distribution = 106.000000 \n",
            "Variance of samples = 243.175918, variance of distribution = 197.311600 \n",
            "Std. deviation of samples = 15.594099, std. deviation of population = 14.046765 \n"
          ],
          "name": "stdout"
        }
      ]
    },
    {
      "cell_type": "code",
      "metadata": {
        "id": "AhPyY4Eqj9-a",
        "colab": {
          "base_uri": "https://localhost:8080/",
          "height": 84
        },
        "outputId": "1375f22b-96c9-4cab-b07b-ed225322622a"
      },
      "source": [
        "# Simulate 10 values of xbar which is the mean of\n",
        "# 2 samples from the same discrete distribution.\n",
        "samplesize = 2\n",
        "nobservations = 10\n",
        "bindat = sample(a, size = samplesize * nobservations, replace = TRUE, prob = p)\n",
        "bindat = matrix(bindat, samplesize)\n",
        "bindatmeans = colMeans(bindat)\n",
        "print(bindat)\n",
        "print(bindatmeans)"
      ],
      "execution_count": null,
      "outputs": [
        {
          "output_type": "stream",
          "text": [
            "     [,1] [,2] [,3] [,4] [,5] [,6] [,7] [,8] [,9] [,10]\n",
            "[1,]  120  120   80   80   80  100  120  120  120   100\n",
            "[2,]  120  100  100  120  120   80  120  100  120   120\n",
            " [1] 120 110  90 100 100  90 120 110 120 110\n"
          ],
          "name": "stdout"
        }
      ]
    },
    {
      "cell_type": "code",
      "metadata": {
        "id": "nwELfggFqVKa"
      },
      "source": [
        "# Simulate 100 values of xbar which is the mean of\n",
        "# 10 samples from the same discrete distribution.\n",
        "remove('bindat')\n",
        "remove('bindatmeans')\n",
        "samplesize = 10\n",
        "nobservations = 100\n",
        "bindat = sample(a, size = samplesize * nobservations, replace = TRUE, prob = p)\n",
        "bindat = matrix(bindat, samplesize)\n",
        "bindatmeans = colMeans(bindat)"
      ],
      "execution_count": null,
      "outputs": []
    },
    {
      "cell_type": "code",
      "metadata": {
        "id": "QuieptY5s0OP",
        "colab": {
          "base_uri": "https://localhost:8080/",
          "height": 497
        },
        "outputId": "8fcaa287-cb66-4bb0-fc64-97b37443f052"
      },
      "source": [
        "# Plot histogram of xbar values\n",
        "df= as.data.frame(table(bindatmeans))\n",
        "# Change plot size to 4 x 4 and generate barplot\n",
        "options(repr.plot.width=4, repr.plot.height=4)\n",
        "barplot(df$Freq, names.arg = df$bindat, ylim=c(0,max(df$Freq)+10),\n",
        "xlab=\"Values of X\", border=\"blue\",col=\"green\",main = \"Histogram of 10000 samples\")"
      ],
      "execution_count": null,
      "outputs": [
        {
          "output_type": "display_data",
          "data": {
            "image/png": "[encoded data removed]",
            "text/plain": [
              "Plot with title “Histogram of 10000 samples”"
            ]
          },
          "metadata": {
            "tags": []
          }
        }
      ]
    }
  ]
}