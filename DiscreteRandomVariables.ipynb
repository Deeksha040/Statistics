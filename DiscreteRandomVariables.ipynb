{
  "nbformat": 4,
  "nbformat_minor": 0,
  "metadata": {
    "kernelspec": {
      "display_name": "R",
      "language": "R",
      "name": "ir"
    },
    "language_info": {
      "codemirror_mode": "r",
      "file_extension": ".r",
      "mimetype": "text/x-r-source",
      "name": "R",
      "pygments_lexer": "r",
      "version": "3.6.1"
    },
    "colab": {
      "provenance": [],
      "include_colab_link": true
    }
  },
  "cells": [
    {
      "cell_type": "markdown",
      "metadata": {
        "id": "view-in-github",
        "colab_type": "text"
      },
      "source": [
        "<a href=\"https://colab.research.google.com/github/Deeksha040/Statistics/blob/main/DiscreteRandomVariables.ipynb\" target=\"_parent\"><img src=\"https://colab.research.google.com/assets/colab-badge.svg\" alt=\"Open In Colab\"/></a>"
      ]
    },
    {
      "cell_type": "code",
      "metadata": {
        "id": "-YVdrr6D2mRE",
        "outputId": "fbe55ef9-88c9-42e5-8551-2505be762844"
      },
      "source": [
        "# Binomial random variable with parameters n=12 and p=0.2\n",
        "# We want to calculate P(X=4)\n",
        "n=12\n",
        "p=0.2\n",
        "a=4\n",
        "dbinom(a, n, p)"
      ],
      "execution_count": null,
      "outputs": [
        {
          "output_type": "display_data",
          "data": {
            "text/html": [
              "0.13287555072"
            ],
            "text/latex": "0.13287555072",
            "text/markdown": "0.13287555072",
            "text/plain": [
              "[1] 0.1328756"
            ]
          },
          "metadata": {
            "tags": []
          }
        }
      ]
    },
    {
      "cell_type": "code",
      "metadata": {
        "id": "CYJR-25J2mRS",
        "outputId": "8e81d3fc-034c-4941-d5b5-35a2f1c58fa8"
      },
      "source": [
        "# What about P(X<=4)?\n",
        "a=4\n",
        "pbinom(a, n, p)"
      ],
      "execution_count": null,
      "outputs": [
        {
          "output_type": "display_data",
          "data": {
            "text/html": [
              "0.92744450048"
            ],
            "text/latex": "0.92744450048",
            "text/markdown": "0.92744450048",
            "text/plain": [
              "[1] 0.9274445"
            ]
          },
          "metadata": {
            "tags": []
          }
        }
      ]
    },
    {
      "cell_type": "code",
      "metadata": {
        "id": "eA2q_1a-2mRd",
        "outputId": "98bf1982-2429-45e8-af12-808220168d8f"
      },
      "source": [
        "# What about P(3<=X<=4)?\n",
        "pbinom(4, n, p)-pbinom(3, n, p)"
      ],
      "execution_count": null,
      "outputs": [
        {
          "output_type": "display_data",
          "data": {
            "text/html": [
              "0.13287555072"
            ],
            "text/latex": "0.13287555072",
            "text/markdown": "0.13287555072",
            "text/plain": [
              "[1] 0.1328756"
            ]
          },
          "metadata": {
            "tags": []
          }
        }
      ]
    },
    {
      "cell_type": "code",
      "metadata": {
        "id": "ayaIm9lP2mRh",
        "outputId": "1ec1853a-d2ab-4b11-dd67-e890afe25e0a"
      },
      "source": [
        "# Simulate 10000 samples of binomial random variable with parameters n, p\n",
        "N = 10000\n",
        "bindat<-rbinom(N, n, p)\n",
        "plot\n",
        "hist(bindat, breaks=seq(0,12,1))\n",
        "mean(bindat == 4)"
      ],
      "execution_count": null,
      "outputs": [
        {
          "output_type": "display_data",
          "data": {
            "text/html": [
              "<pre class=language-r><code>function (x, y, ...) \n",
              "UseMethod(\"plot\")</code></pre>"
            ],
            "text/latex": "\\begin{minted}{r}\nfunction (x, y, ...) \nUseMethod(\"plot\")\n\\end{minted}",
            "text/markdown": "```r\nfunction (x, y, ...) \nUseMethod(\"plot\")\n```",
            "text/plain": [
              "function (x, y, ...) \n",
              "UseMethod(\"plot\")\n",
              "<bytecode: 0x000000001ba5db90>\n",
              "<environment: namespace:graphics>"
            ]
          },
          "metadata": {
            "tags": []
          }
        },
        {
          "output_type": "display_data",
          "data": {
            "text/html": [
              "0.1374"
            ],
            "text/latex": "0.1374",
            "text/markdown": "0.1374",
            "text/plain": [
              "[1] 0.1374"
            ]
          },
          "metadata": {
            "tags": []
          }
        },
        {
          "output_type": "display_data",
          "data": {
            "image/png": "[encoded data removed]",
            "text/plain": [
              "Plot with title \"Histogram of bindat\""
            ]
          },
          "metadata": {
            "tags": []
          }
        }
      ]
    },
    {
      "cell_type": "code",
      "metadata": {
        "id": "4QUtRxbS2mR_",
        "outputId": "8ad720d6-a02f-4e29-e1f5-c514eda543d7"
      },
      "source": [
        "# Simulate 10000 samples of Bernoulli random variable with parameter p\n",
        "N = 10000\n",
        "bindat<-rbinom(N, n, p)\n",
        "hist(bindat, breaks=seq(0,1,0.5))\n",
        "mean(bindat == 1)"
      ],
      "execution_count": null,
      "outputs": [
        {
          "output_type": "display_data",
          "data": {
            "text/html": [
              "0.1992"
            ],
            "text/latex": "0.1992",
            "text/markdown": "0.1992",
            "text/plain": [
              "[1] 0.1992"
            ]
          },
          "metadata": {
            "tags": []
          }
        },
        {
          "output_type": "display_data",
          "data": {
            "image/png": "[encoded data removed]",
            "text/plain": [
              "Plot with title \"Histogram of bindat\""
            ]
          },
          "metadata": {
            "tags": []
          }
        }
      ]
    },
    {
      "cell_type": "code",
      "metadata": {
        "id": "_YXJjEx-2mSD",
        "outputId": "e10df6db-271c-4453-bde4-3cc310364df5"
      },
      "source": [
        "install.packages(\"discreteRV\")"
      ],
      "execution_count": null,
      "outputs": [
        {
          "output_type": "stream",
          "text": [
            "also installing the dependencies 'plyr', 'MASS'\n",
            "\n"
          ],
          "name": "stderr"
        },
        {
          "output_type": "stream",
          "text": [
            "package 'plyr' successfully unpacked and MD5 sums checked\n",
            "package 'MASS' successfully unpacked and MD5 sums checked\n",
            "package 'discreteRV' successfully unpacked and MD5 sums checked\n",
            "\n",
            "The downloaded binary packages are in\n",
            "\tC:\\Users\\Gennaro De-Angelis\\AppData\\Local\\Temp\\RtmpuGU0K5\\downloaded_packages\n"
          ],
          "name": "stdout"
        }
      ]
    },
    {
      "cell_type": "code",
      "metadata": {
        "id": "q8l89hur2mST",
        "outputId": "d7aa85be-e666-4928-ab2b-0ddca9c2ce82"
      },
      "source": [
        "library(discreteRV)"
      ],
      "execution_count": null,
      "outputs": [
        {
          "output_type": "stream",
          "text": [
            "\n",
            "Attaching package: 'discreteRV'\n",
            "\n",
            "The following object is masked from 'package:base':\n",
            "\n",
            "    %in%\n",
            "\n"
          ],
          "name": "stderr"
        }
      ]
    },
    {
      "cell_type": "code",
      "metadata": {
        "id": "wHRkdy1p2mSW",
        "outputId": "06db64cd-db2c-4f85-8baf-e54e86c0af30"
      },
      "source": [
        "X <- RV(outcomes = 1:6, probs = 1/6)\n",
        "X\n",
        "probs(X)\n",
        "plot(X)"
      ],
      "execution_count": null,
      "outputs": [
        {
          "output_type": "display_data",
          "data": {
            "text/plain": [
              "Random variable with 6 outcomes\n",
              "\n",
              "Outcomes   1   2   3   4   5   6\n",
              "Probs    1/6 1/6 1/6 1/6 1/6 1/6"
            ]
          },
          "metadata": {
            "tags": []
          }
        },
        {
          "output_type": "display_data",
          "data": {
            "text/html": [
              "<dl class=dl-horizontal>\n",
              "\t<dt>1</dt>\n",
              "\t\t<dd>0.166666666666667</dd>\n",
              "\t<dt>2</dt>\n",
              "\t\t<dd>0.166666666666667</dd>\n",
              "\t<dt>3</dt>\n",
              "\t\t<dd>0.166666666666667</dd>\n",
              "\t<dt>4</dt>\n",
              "\t\t<dd>0.166666666666667</dd>\n",
              "\t<dt>5</dt>\n",
              "\t\t<dd>0.166666666666667</dd>\n",
              "\t<dt>6</dt>\n",
              "\t\t<dd>0.166666666666667</dd>\n",
              "</dl>\n"
            ],
            "text/latex": "\\begin{description*}\n\\item[1] 0.166666666666667\n\\item[2] 0.166666666666667\n\\item[3] 0.166666666666667\n\\item[4] 0.166666666666667\n\\item[5] 0.166666666666667\n\\item[6] 0.166666666666667\n\\end{description*}\n",
            "text/markdown": "1\n:   0.1666666666666672\n:   0.1666666666666673\n:   0.1666666666666674\n:   0.1666666666666675\n:   0.1666666666666676\n:   0.166666666666667\n\n",
            "text/plain": [
              "        1         2         3         4         5         6 \n",
              "0.1666667 0.1666667 0.1666667 0.1666667 0.1666667 0.1666667 "
            ]
          },
          "metadata": {
            "tags": []
          }
        },
        {
          "output_type": "display_data",
          "data": {
            "image/png": "[encoded data removed]",
            "text/plain": [
              "plot without title"
            ]
          },
          "metadata": {
            "tags": []
          }
        }
      ]
    },
    {
      "cell_type": "code",
      "metadata": {
        "id": "0Y5dcotS2mSa",
        "outputId": "78042a2d-4b3a-461c-fe03-d3998b1a7add"
      },
      "source": [
        "# Expected value\n",
        "sum(probs(X)*outcomes(X))\n",
        "E(X)"
      ],
      "execution_count": null,
      "outputs": [
        {
          "output_type": "display_data",
          "data": {
            "text/html": [
              "3.5"
            ],
            "text/latex": "3.5",
            "text/markdown": "3.5",
            "text/plain": [
              "[1] 3.5"
            ]
          },
          "metadata": {
            "tags": []
          }
        },
        {
          "output_type": "display_data",
          "data": {
            "text/html": [
              "3.5"
            ],
            "text/latex": "3.5",
            "text/markdown": "3.5",
            "text/plain": [
              "[1] 3.5"
            ]
          },
          "metadata": {
            "tags": []
          }
        }
      ]
    },
    {
      "cell_type": "code",
      "metadata": {
        "id": "_mdkX-Tk2mSh",
        "outputId": "947e459d-6607-4beb-c009-435fc640f69c"
      },
      "source": [
        "# Variance\n",
        "sum(probs(X)*(outcomes(X) - E(X))^2)\n",
        "V(X)"
      ],
      "execution_count": null,
      "outputs": [
        {
          "output_type": "display_data",
          "data": {
            "text/html": [
              "2.91666666666667"
            ],
            "text/latex": "2.91666666666667",
            "text/markdown": "2.91666666666667",
            "text/plain": [
              "[1] 2.916667"
            ]
          },
          "metadata": {
            "tags": []
          }
        },
        {
          "output_type": "display_data",
          "data": {
            "text/html": [
              "2.91666666666667"
            ],
            "text/latex": "2.91666666666667",
            "text/markdown": "2.91666666666667",
            "text/plain": [
              "[1] 2.916667"
            ]
          },
          "metadata": {
            "tags": []
          }
        }
      ]
    },
    {
      "cell_type": "code",
      "metadata": {
        "id": "6lccXUl02mSk",
        "outputId": "60f3d625-ff80-4256-cab4-82777e80dcee"
      },
      "source": [
        "# What is the probability of >=5 heads in 10 coin flips where probability of heads is 0.3?\n",
        "# exact\n",
        "pbinom(q = 4, size = 10, p = 0.3, lower.tail  = FALSE)\n",
        "\n",
        "# simulated\n",
        "mean(rbinom(n = 10000, size = 10, prob = 0.3) >= 5)"
      ],
      "execution_count": null,
      "outputs": [
        {
          "output_type": "display_data",
          "data": {
            "text/html": [
              "0.1502683326"
            ],
            "text/latex": "0.1502683326",
            "text/markdown": "0.1502683326",
            "text/plain": [
              "[1] 0.1502683"
            ]
          },
          "metadata": {
            "tags": []
          }
        },
        {
          "output_type": "display_data",
          "data": {
            "text/html": [
              "0.1519"
            ],
            "text/latex": "0.1519",
            "text/markdown": "0.1519",
            "text/plain": [
              "[1] 0.1519"
            ]
          },
          "metadata": {
            "tags": []
          }
        }
      ]
    },
    {
      "cell_type": "code",
      "metadata": {
        "id": "02AwfYXj2mSm",
        "outputId": "635b614c-762e-469c-a1da-d41af5ade417"
      },
      "source": [
        "# Negative binomial random variable with parameters r=4 and p=0.2\n",
        "# We want to calculate P(X=12)\n",
        "r=4\n",
        "p=0.2\n",
        "a=12\n",
        "dnbinom(a, r, p)"
      ],
      "execution_count": null,
      "outputs": [
        {
          "output_type": "display_data",
          "data": {
            "text/html": [
              "0.050027779063808"
            ],
            "text/latex": "0.050027779063808",
            "text/markdown": "0.050027779063808",
            "text/plain": [
              "[1] 0.05002778"
            ]
          },
          "metadata": {
            "tags": []
          }
        }
      ]
    },
    {
      "cell_type": "code",
      "metadata": {
        "id": "dn9Rj2nj2mSo",
        "outputId": "ab3aa99c-fea0-440d-e8fe-664cda4b0942"
      },
      "source": [
        "# What about P(X<=12)?\n",
        "a=12\n",
        "pnbinom(a, r, p)"
      ],
      "execution_count": null,
      "outputs": [
        {
          "output_type": "display_data",
          "data": {
            "text/html": [
              "0.401865674489856"
            ],
            "text/latex": "0.401865674489856",
            "text/markdown": "0.401865674489856",
            "text/plain": [
              "[1] 0.4018657"
            ]
          },
          "metadata": {
            "tags": []
          }
        }
      ]
    },
    {
      "cell_type": "code",
      "metadata": {
        "id": "yCZK8_MV2mSt",
        "outputId": "988e0287-6987-4cd4-f00a-e76843974b9e"
      },
      "source": [
        "# Simulate 10000 samples of binomial random variable with parameters r, p\n",
        "N = 10000\n",
        "bindat<-rnbinom(N, r, p)\n",
        "plot\n",
        "hist(bindat, breaks=seq(0,100,5))\n",
        "mean(bindat == 12)"
      ],
      "execution_count": null,
      "outputs": [
        {
          "output_type": "display_data",
          "data": {
            "text/html": [
              "<pre class=language-r><code>function (x, y, ...) \n",
              "UseMethod(\"plot\")</code></pre>"
            ],
            "text/latex": "\\begin{minted}{r}\nfunction (x, y, ...) \nUseMethod(\"plot\")\n\\end{minted}",
            "text/markdown": "```r\nfunction (x, y, ...) \nUseMethod(\"plot\")\n```",
            "text/plain": [
              "function (x, y, ...) \n",
              "UseMethod(\"plot\")\n",
              "<bytecode: 0x000000001ba5db90>\n",
              "<environment: namespace:graphics>"
            ]
          },
          "metadata": {
            "tags": []
          }
        },
        {
          "output_type": "display_data",
          "data": {
            "text/html": [
              "0.0533"
            ],
            "text/latex": "0.0533",
            "text/markdown": "0.0533",
            "text/plain": [
              "[1] 0.0533"
            ]
          },
          "metadata": {
            "tags": []
          }
        },
        {
          "output_type": "display_data",
          "data": {
            "image/png": "[encoded data removed]",
            "text/plain": [
              "Plot with title \"Histogram of bindat\""
            ]
          },
          "metadata": {
            "tags": []
          }
        }
      ]
    },
    {
      "cell_type": "code",
      "metadata": {
        "id": "IXVMGvMo2mSx",
        "outputId": "d20adec6-3f94-4785-9fc1-e39eed49f4f7"
      },
      "source": [
        "# Hypergeometric random variable\n",
        "#What is the probability of selecting x = 14 red marbles from a sample\n",
        "# of k = 20 taken from an urn containing m = 70 red marbles and n = 30 green marbles?\n",
        "\n",
        "x = 14\n",
        "m = 70\n",
        "n = 30\n",
        "k = 20\n",
        "dhyper(x = x, m = m, n = n, k = k)"
      ],
      "execution_count": null,
      "outputs": [
        {
          "output_type": "display_data",
          "data": {
            "text/html": [
              "0.214091062978847"
            ],
            "text/latex": "0.214091062978847",
            "text/markdown": "0.214091062978847",
            "text/plain": [
              "[1] 0.2140911"
            ]
          },
          "metadata": {
            "tags": []
          }
        }
      ]
    },
    {
      "cell_type": "code",
      "metadata": {
        "id": "lcBMILm42mS0",
        "outputId": "987da40e-8878-4b60-f584-45f699beefa8"
      },
      "source": [
        "# expected number of red marbles\n",
        "k * m / (m + n)"
      ],
      "execution_count": null,
      "outputs": [
        {
          "output_type": "display_data",
          "data": {
            "text/html": [
              "14"
            ],
            "text/latex": "14",
            "text/markdown": "14",
            "text/plain": [
              "[1] 14"
            ]
          },
          "metadata": {
            "tags": []
          }
        }
      ]
    },
    {
      "cell_type": "code",
      "metadata": {
        "id": "EQDeBwA_2mS2"
      },
      "source": [],
      "execution_count": null,
      "outputs": []
    }
  ]
}