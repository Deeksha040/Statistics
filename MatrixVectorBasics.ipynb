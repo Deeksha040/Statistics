{
  "cells": [
    {
      "cell_type": "markdown",
      "metadata": {
        "id": "view-in-github",
        "colab_type": "text"
      },
      "source": [
        "<a href=\"https://colab.research.google.com/github/Deeksha040/Statistics/blob/main/MatrixVectorBasics.ipynb\" target=\"_parent\"><img src=\"https://colab.research.google.com/assets/colab-badge.svg\" alt=\"Open In Colab\"/></a>"
      ]
    },
    {
      "cell_type": "code",
      "execution_count": null,
      "metadata": {
        "id": "TnwB-vPw4FMQ"
      },
      "outputs": [],
      "source": [
        "# Numeric vectors\n",
        "n1 <- 20\n",
        "n2 <- c(20, 25, 60, 55)"
      ]
    },
    {
      "cell_type": "code",
      "execution_count": null,
      "metadata": {
        "id": "Ug4QK1tp4FMX"
      },
      "outputs": [],
      "source": [
        "# Character vectors\n",
        "c1 <- \"Blue\"\n",
        "c2 <- c(\"Red\", \"Green\", \"Purple\")"
      ]
    },
    {
      "cell_type": "code",
      "execution_count": null,
      "metadata": {
        "id": "Oa9hneBm4FMZ"
      },
      "outputs": [],
      "source": [
        "# Logical vectors\n",
        "l1 <- TRUE\n",
        "l2 <- c(TRUE, FALSE, TRUE)"
      ]
    },
    {
      "cell_type": "code",
      "execution_count": null,
      "metadata": {
        "id": "853HKt4O4FMa",
        "outputId": "cfda51af-b5f6-42e0-ac89-5ef2a9441e62"
      },
      "outputs": [
        {
          "data": {
            "text/html": [
              "<ol class=list-inline>\n",
              "\t<li>0</li>\n",
              "\t<li>2</li>\n",
              "\t<li>4</li>\n",
              "\t<li>6</li>\n",
              "\t<li>8</li>\n",
              "\t<li>10</li>\n",
              "</ol>\n"
            ],
            "text/latex": [
              "\\begin{enumerate*}\n",
              "\\item 0\n",
              "\\item 2\n",
              "\\item 4\n",
              "\\item 6\n",
              "\\item 8\n",
              "\\item 10\n",
              "\\end{enumerate*}\n"
            ],
            "text/markdown": [
              "1. 0\n",
              "2. 2\n",
              "3. 4\n",
              "4. 6\n",
              "5. 8\n",
              "6. 10\n",
              "\n",
              "\n"
            ],
            "text/plain": [
              "[1]  0  2  4  6  8 10"
            ]
          },
          "metadata": {},
          "output_type": "display_data"
        }
      ],
      "source": [
        "n1 <- seq(from = 0, to = 10, by = 2)   #using 'by'\n",
        "n1"
      ]
    },
    {
      "cell_type": "code",
      "execution_count": null,
      "metadata": {
        "id": "sucS_Fh-4FMe",
        "outputId": "51c1041c-e82c-4326-b226-d31085903e60"
      },
      "outputs": [
        {
          "data": {
            "text/html": [
              "<ol class=list-inline>\n",
              "\t<li>0</li>\n",
              "\t<li>2.5</li>\n",
              "\t<li>5</li>\n",
              "\t<li>7.5</li>\n",
              "\t<li>10</li>\n",
              "</ol>\n"
            ],
            "text/latex": [
              "\\begin{enumerate*}\n",
              "\\item 0\n",
              "\\item 2.5\n",
              "\\item 5\n",
              "\\item 7.5\n",
              "\\item 10\n",
              "\\end{enumerate*}\n"
            ],
            "text/markdown": [
              "1. 0\n",
              "2. 2.5\n",
              "3. 5\n",
              "4. 7.5\n",
              "5. 10\n",
              "\n",
              "\n"
            ],
            "text/plain": [
              "[1]  0.0  2.5  5.0  7.5 10.0"
            ]
          },
          "metadata": {},
          "output_type": "display_data"
        }
      ],
      "source": [
        "n2 <- seq(from = 0, to = 10, length.out = 5)   #using 'length.out'\n",
        "n2"
      ]
    },
    {
      "cell_type": "code",
      "execution_count": null,
      "metadata": {
        "id": "qIx_c0bT4FMh",
        "outputId": "02ad530e-cc18-4170-e696-574e57e0ec58"
      },
      "outputs": [
        {
          "data": {
            "text/html": [
              "<ol class=list-inline>\n",
              "\t<li>1</li>\n",
              "\t<li>1.1</li>\n",
              "\t<li>1.2</li>\n",
              "\t<li>1.3</li>\n",
              "\t<li>1.4</li>\n",
              "\t<li>1.5</li>\n",
              "\t<li>1.6</li>\n",
              "\t<li>1.7</li>\n",
              "\t<li>1.8</li>\n",
              "\t<li>1.9</li>\n",
              "\t<li>2</li>\n",
              "</ol>\n"
            ],
            "text/latex": [
              "\\begin{enumerate*}\n",
              "\\item 1\n",
              "\\item 1.1\n",
              "\\item 1.2\n",
              "\\item 1.3\n",
              "\\item 1.4\n",
              "\\item 1.5\n",
              "\\item 1.6\n",
              "\\item 1.7\n",
              "\\item 1.8\n",
              "\\item 1.9\n",
              "\\item 2\n",
              "\\end{enumerate*}\n"
            ],
            "text/markdown": [
              "1. 1\n",
              "2. 1.1\n",
              "3. 1.2\n",
              "4. 1.3\n",
              "5. 1.4\n",
              "6. 1.5\n",
              "7. 1.6\n",
              "8. 1.7\n",
              "9. 1.8\n",
              "10. 1.9\n",
              "11. 2\n",
              "\n",
              "\n"
            ],
            "text/plain": [
              " [1] 1.0 1.1 1.2 1.3 1.4 1.5 1.6 1.7 1.8 1.9 2.0"
            ]
          },
          "metadata": {},
          "output_type": "display_data"
        }
      ],
      "source": [
        "n3 <- seq(1, 2, 0.1)   #no argument names specified; automatically uses 'from', 'to', 'by'\n",
        "n3"
      ]
    },
    {
      "cell_type": "code",
      "execution_count": null,
      "metadata": {
        "id": "DDTVQkCa4FMj",
        "outputId": "6a8b0e38-6a0b-4d1e-e564-f90ee4ff4a42"
      },
      "outputs": [
        {
          "data": {
            "text/html": [
              "<ol class=list-inline>\n",
              "\t<li>1</li>\n",
              "\t<li>2</li>\n",
              "\t<li>3</li>\n",
              "\t<li>4</li>\n",
              "\t<li>5</li>\n",
              "</ol>\n"
            ],
            "text/latex": [
              "\\begin{enumerate*}\n",
              "\\item 1\n",
              "\\item 2\n",
              "\\item 3\n",
              "\\item 4\n",
              "\\item 5\n",
              "\\end{enumerate*}\n"
            ],
            "text/markdown": [
              "1. 1\n",
              "2. 2\n",
              "3. 3\n",
              "4. 4\n",
              "5. 5\n",
              "\n",
              "\n"
            ],
            "text/plain": [
              "[1] 1 2 3 4 5"
            ]
          },
          "metadata": {},
          "output_type": "display_data"
        }
      ],
      "source": [
        "n4 <- 1:5    #shortcut for integer sequence; same as 'seq(1, 5, 1)'\n",
        "n4"
      ]
    },
    {
      "cell_type": "code",
      "execution_count": null,
      "metadata": {
        "id": "Ok5aS87U4FMl",
        "outputId": "ff2fc03a-4a82-4ee6-9cda-374530b07fdf"
      },
      "outputs": [
        {
          "data": {
            "text/html": [
              "<ol class=list-inline>\n",
              "\t<li>1</li>\n",
              "\t<li>1</li>\n",
              "\t<li>1</li>\n",
              "\t<li>1</li>\n",
              "\t<li>1</li>\n",
              "</ol>\n"
            ],
            "text/latex": [
              "\\begin{enumerate*}\n",
              "\\item 1\n",
              "\\item 1\n",
              "\\item 1\n",
              "\\item 1\n",
              "\\item 1\n",
              "\\end{enumerate*}\n"
            ],
            "text/markdown": [
              "1. 1\n",
              "2. 1\n",
              "3. 1\n",
              "4. 1\n",
              "5. 1\n",
              "\n",
              "\n"
            ],
            "text/plain": [
              "[1] 1 1 1 1 1"
            ]
          },
          "metadata": {},
          "output_type": "display_data"
        }
      ],
      "source": [
        "rep(1, 5)"
      ]
    },
    {
      "cell_type": "code",
      "execution_count": null,
      "metadata": {
        "id": "scK7Fi_d4FMm",
        "outputId": "4323a5e1-239a-45c5-af49-66f75efe39a4"
      },
      "outputs": [
        {
          "data": {
            "text/html": [
              "<ol class=list-inline>\n",
              "\t<li>'blue'</li>\n",
              "\t<li>'blue'</li>\n",
              "\t<li>'blue'</li>\n",
              "</ol>\n"
            ],
            "text/latex": [
              "\\begin{enumerate*}\n",
              "\\item 'blue'\n",
              "\\item 'blue'\n",
              "\\item 'blue'\n",
              "\\end{enumerate*}\n"
            ],
            "text/markdown": [
              "1. 'blue'\n",
              "2. 'blue'\n",
              "3. 'blue'\n",
              "\n",
              "\n"
            ],
            "text/plain": [
              "[1] \"blue\" \"blue\" \"blue\""
            ]
          },
          "metadata": {},
          "output_type": "display_data"
        }
      ],
      "source": [
        "rep(\"blue\", 3)"
      ]
    },
    {
      "cell_type": "code",
      "execution_count": null,
      "metadata": {
        "id": "nbXw31eJ4FMn",
        "outputId": "c1562b2b-13e1-4811-a05f-e5ec3cc4463d"
      },
      "outputs": [
        {
          "data": {
            "text/html": [
              "<ol class=list-inline>\n",
              "\t<li>TRUE</li>\n",
              "\t<li>TRUE</li>\n",
              "\t<li>TRUE</li>\n",
              "\t<li>TRUE</li>\n",
              "</ol>\n"
            ],
            "text/latex": [
              "\\begin{enumerate*}\n",
              "\\item TRUE\n",
              "\\item TRUE\n",
              "\\item TRUE\n",
              "\\item TRUE\n",
              "\\end{enumerate*}\n"
            ],
            "text/markdown": [
              "1. TRUE\n",
              "2. TRUE\n",
              "3. TRUE\n",
              "4. TRUE\n",
              "\n",
              "\n"
            ],
            "text/plain": [
              "[1] TRUE TRUE TRUE TRUE"
            ]
          },
          "metadata": {},
          "output_type": "display_data"
        }
      ],
      "source": [
        "rep(TRUE, 4)"
      ]
    },
    {
      "cell_type": "code",
      "execution_count": null,
      "metadata": {
        "id": "a7EeAS984FMo",
        "outputId": "a0f730de-9a4f-4e1d-edac-357fd63f113a"
      },
      "outputs": [
        {
          "data": {
            "text/html": [
              "<ol class=list-inline>\n",
              "\t<li>'blue'</li>\n",
              "\t<li>'red'</li>\n",
              "\t<li>'blue'</li>\n",
              "\t<li>'red'</li>\n",
              "\t<li>'blue'</li>\n",
              "\t<li>'red'</li>\n",
              "</ol>\n"
            ],
            "text/latex": [
              "\\begin{enumerate*}\n",
              "\\item 'blue'\n",
              "\\item 'red'\n",
              "\\item 'blue'\n",
              "\\item 'red'\n",
              "\\item 'blue'\n",
              "\\item 'red'\n",
              "\\end{enumerate*}\n"
            ],
            "text/markdown": [
              "1. 'blue'\n",
              "2. 'red'\n",
              "3. 'blue'\n",
              "4. 'red'\n",
              "5. 'blue'\n",
              "6. 'red'\n",
              "\n",
              "\n"
            ],
            "text/plain": [
              "[1] \"blue\" \"red\"  \"blue\" \"red\"  \"blue\" \"red\" "
            ]
          },
          "metadata": {},
          "output_type": "display_data"
        }
      ],
      "source": [
        "rep(c(\"blue\", \"red\"), 3)"
      ]
    },
    {
      "cell_type": "code",
      "execution_count": null,
      "metadata": {
        "id": "egFBXjIl4FMp",
        "outputId": "39af50e0-1e80-45f4-aa2e-fc083b77224b"
      },
      "outputs": [
        {
          "data": {
            "text/html": [
              "<ol class=list-inline>\n",
              "\t<li>0</li>\n",
              "\t<li>2</li>\n",
              "\t<li>4</li>\n",
              "\t<li>6</li>\n",
              "\t<li>0</li>\n",
              "\t<li>2</li>\n",
              "\t<li>4</li>\n",
              "\t<li>6</li>\n",
              "\t<li>4</li>\n",
              "\t<li>3</li>\n",
              "\t<li>2</li>\n",
              "\t<li>1</li>\n",
              "</ol>\n"
            ],
            "text/latex": [
              "\\begin{enumerate*}\n",
              "\\item 0\n",
              "\\item 2\n",
              "\\item 4\n",
              "\\item 6\n",
              "\\item 0\n",
              "\\item 2\n",
              "\\item 4\n",
              "\\item 6\n",
              "\\item 4\n",
              "\\item 3\n",
              "\\item 2\n",
              "\\item 1\n",
              "\\end{enumerate*}\n"
            ],
            "text/markdown": [
              "1. 0\n",
              "2. 2\n",
              "3. 4\n",
              "4. 6\n",
              "5. 0\n",
              "6. 2\n",
              "7. 4\n",
              "8. 6\n",
              "9. 4\n",
              "10. 3\n",
              "11. 2\n",
              "12. 1\n",
              "\n",
              "\n"
            ],
            "text/plain": [
              " [1] 0 2 4 6 0 2 4 6 4 3 2 1"
            ]
          },
          "metadata": {},
          "output_type": "display_data"
        }
      ],
      "source": [
        "c(rep(seq(0, 6, 2), 2), 4:1)"
      ]
    },
    {
      "cell_type": "code",
      "execution_count": null,
      "metadata": {
        "id": "l7zjWir-4FMq",
        "outputId": "24ce4af0-16af-4f12-9da4-9751d4b480fb"
      },
      "outputs": [
        {
          "data": {
            "text/html": [
              "'apple'"
            ],
            "text/latex": [
              "'apple'"
            ],
            "text/markdown": [
              "'apple'"
            ],
            "text/plain": [
              "[1] \"apple\""
            ]
          },
          "metadata": {},
          "output_type": "display_data"
        }
      ],
      "source": [
        "fruits <- c(\"apple\", \"banana\")\n",
        "fruits[c(TRUE, FALSE)]"
      ]
    },
    {
      "cell_type": "code",
      "execution_count": null,
      "metadata": {
        "id": "PFZrqD1K4FMr",
        "outputId": "5f804b17-e2cd-441f-b1b5-27f1d4bde8c6"
      },
      "outputs": [
        {
          "data": {
            "text/html": [
              "<ol class=list-inline>\n",
              "\t<li>'orange'</li>\n",
              "\t<li>'apple'</li>\n",
              "\t<li>'banana'</li>\n",
              "\t<li>'orange'</li>\n",
              "\t<li>'apple'</li>\n",
              "\t<li>'banana'</li>\n",
              "\t<li>'orange'</li>\n",
              "\t<li>'apple'</li>\n",
              "\t<li>'banana'</li>\n",
              "\t<li>'orange'</li>\n",
              "\t<li>'apple'</li>\n",
              "\t<li>'banana'</li>\n",
              "\t<li>'orange'</li>\n",
              "\t<li>'apple'</li>\n",
              "\t<li>'banana'</li>\n",
              "\t<li>'orange'</li>\n",
              "\t<li>'apple'</li>\n",
              "\t<li>'banana'</li>\n",
              "\t<li>'orange'</li>\n",
              "\t<li>'apple'</li>\n",
              "\t<li>'banana'</li>\n",
              "\t<li>'orange'</li>\n",
              "\t<li>'apple'</li>\n",
              "\t<li>'banana'</li>\n",
              "\t<li>'orange'</li>\n",
              "\t<li>'apple'</li>\n",
              "\t<li>'banana'</li>\n",
              "\t<li>'orange'</li>\n",
              "\t<li>'apple'</li>\n",
              "\t<li>'banana'</li>\n",
              "</ol>\n"
            ],
            "text/latex": [
              "\\begin{enumerate*}\n",
              "\\item 'orange'\n",
              "\\item 'apple'\n",
              "\\item 'banana'\n",
              "\\item 'orange'\n",
              "\\item 'apple'\n",
              "\\item 'banana'\n",
              "\\item 'orange'\n",
              "\\item 'apple'\n",
              "\\item 'banana'\n",
              "\\item 'orange'\n",
              "\\item 'apple'\n",
              "\\item 'banana'\n",
              "\\item 'orange'\n",
              "\\item 'apple'\n",
              "\\item 'banana'\n",
              "\\item 'orange'\n",
              "\\item 'apple'\n",
              "\\item 'banana'\n",
              "\\item 'orange'\n",
              "\\item 'apple'\n",
              "\\item 'banana'\n",
              "\\item 'orange'\n",
              "\\item 'apple'\n",
              "\\item 'banana'\n",
              "\\item 'orange'\n",
              "\\item 'apple'\n",
              "\\item 'banana'\n",
              "\\item 'orange'\n",
              "\\item 'apple'\n",
              "\\item 'banana'\n",
              "\\end{enumerate*}\n"
            ],
            "text/markdown": [
              "1. 'orange'\n",
              "2. 'apple'\n",
              "3. 'banana'\n",
              "4. 'orange'\n",
              "5. 'apple'\n",
              "6. 'banana'\n",
              "7. 'orange'\n",
              "8. 'apple'\n",
              "9. 'banana'\n",
              "10. 'orange'\n",
              "11. 'apple'\n",
              "12. 'banana'\n",
              "13. 'orange'\n",
              "14. 'apple'\n",
              "15. 'banana'\n",
              "16. 'orange'\n",
              "17. 'apple'\n",
              "18. 'banana'\n",
              "19. 'orange'\n",
              "20. 'apple'\n",
              "21. 'banana'\n",
              "22. 'orange'\n",
              "23. 'apple'\n",
              "24. 'banana'\n",
              "25. 'orange'\n",
              "26. 'apple'\n",
              "27. 'banana'\n",
              "28. 'orange'\n",
              "29. 'apple'\n",
              "30. 'banana'\n",
              "\n",
              "\n"
            ],
            "text/plain": [
              " [1] \"orange\" \"apple\"  \"banana\" \"orange\" \"apple\"  \"banana\" \"orange\" \"apple\" \n",
              " [9] \"banana\" \"orange\" \"apple\"  \"banana\" \"orange\" \"apple\"  \"banana\" \"orange\"\n",
              "[17] \"apple\"  \"banana\" \"orange\" \"apple\"  \"banana\" \"orange\" \"apple\"  \"banana\"\n",
              "[25] \"orange\" \"apple\"  \"banana\" \"orange\" \"apple\"  \"banana\""
            ]
          },
          "metadata": {},
          "output_type": "display_data"
        }
      ],
      "source": [
        "# Create a vector with 30 fruits\n",
        "fruits <- rep(c(\"orange\", \"apple\", \"banana\"), 10)\n",
        "fruits"
      ]
    },
    {
      "cell_type": "code",
      "execution_count": null,
      "metadata": {
        "id": "Vn4C7nAS4FMr",
        "outputId": "cbff6b58-3413-4012-817e-c63211d88126"
      },
      "outputs": [
        {
          "data": {
            "text/html": [
              "<ol class=list-inline>\n",
              "\t<li>TRUE</li>\n",
              "\t<li>TRUE</li>\n",
              "\t<li>FALSE</li>\n",
              "\t<li>TRUE</li>\n",
              "\t<li>TRUE</li>\n",
              "\t<li>FALSE</li>\n",
              "\t<li>TRUE</li>\n",
              "\t<li>TRUE</li>\n",
              "\t<li>FALSE</li>\n",
              "\t<li>TRUE</li>\n",
              "\t<li>TRUE</li>\n",
              "\t<li>FALSE</li>\n",
              "\t<li>TRUE</li>\n",
              "\t<li>TRUE</li>\n",
              "\t<li>FALSE</li>\n",
              "\t<li>TRUE</li>\n",
              "\t<li>TRUE</li>\n",
              "\t<li>FALSE</li>\n",
              "\t<li>TRUE</li>\n",
              "\t<li>TRUE</li>\n",
              "\t<li>FALSE</li>\n",
              "\t<li>TRUE</li>\n",
              "\t<li>TRUE</li>\n",
              "\t<li>FALSE</li>\n",
              "\t<li>TRUE</li>\n",
              "\t<li>TRUE</li>\n",
              "\t<li>FALSE</li>\n",
              "\t<li>TRUE</li>\n",
              "\t<li>TRUE</li>\n",
              "\t<li>FALSE</li>\n",
              "</ol>\n"
            ],
            "text/latex": [
              "\\begin{enumerate*}\n",
              "\\item TRUE\n",
              "\\item TRUE\n",
              "\\item FALSE\n",
              "\\item TRUE\n",
              "\\item TRUE\n",
              "\\item FALSE\n",
              "\\item TRUE\n",
              "\\item TRUE\n",
              "\\item FALSE\n",
              "\\item TRUE\n",
              "\\item TRUE\n",
              "\\item FALSE\n",
              "\\item TRUE\n",
              "\\item TRUE\n",
              "\\item FALSE\n",
              "\\item TRUE\n",
              "\\item TRUE\n",
              "\\item FALSE\n",
              "\\item TRUE\n",
              "\\item TRUE\n",
              "\\item FALSE\n",
              "\\item TRUE\n",
              "\\item TRUE\n",
              "\\item FALSE\n",
              "\\item TRUE\n",
              "\\item TRUE\n",
              "\\item FALSE\n",
              "\\item TRUE\n",
              "\\item TRUE\n",
              "\\item FALSE\n",
              "\\end{enumerate*}\n"
            ],
            "text/markdown": [
              "1. TRUE\n",
              "2. TRUE\n",
              "3. FALSE\n",
              "4. TRUE\n",
              "5. TRUE\n",
              "6. FALSE\n",
              "7. TRUE\n",
              "8. TRUE\n",
              "9. FALSE\n",
              "10. TRUE\n",
              "11. TRUE\n",
              "12. FALSE\n",
              "13. TRUE\n",
              "14. TRUE\n",
              "15. FALSE\n",
              "16. TRUE\n",
              "17. TRUE\n",
              "18. FALSE\n",
              "19. TRUE\n",
              "20. TRUE\n",
              "21. FALSE\n",
              "22. TRUE\n",
              "23. TRUE\n",
              "24. FALSE\n",
              "25. TRUE\n",
              "26. TRUE\n",
              "27. FALSE\n",
              "28. TRUE\n",
              "29. TRUE\n",
              "30. FALSE\n",
              "\n",
              "\n"
            ],
            "text/plain": [
              " [1]  TRUE  TRUE FALSE  TRUE  TRUE FALSE  TRUE  TRUE FALSE  TRUE  TRUE FALSE\n",
              "[13]  TRUE  TRUE FALSE  TRUE  TRUE FALSE  TRUE  TRUE FALSE  TRUE  TRUE FALSE\n",
              "[25]  TRUE  TRUE FALSE  TRUE  TRUE FALSE"
            ]
          },
          "metadata": {},
          "output_type": "display_data"
        }
      ],
      "source": [
        "# Create a logical vector for dropping bananas\n",
        "# Note: I'm creating the exact same logical vector three times (overriding it each time)\n",
        "# This is for illustrative purposes; using one of these is sufficient\n",
        "lv <- fruits == \"orange\" | fruits == \"apple\"\n",
        "lv <- fruits != \"banana\"\n",
        "lv <- fruits %in% c(\"orange\", \"apple\")\n",
        "lv"
      ]
    },
    {
      "cell_type": "code",
      "execution_count": null,
      "metadata": {
        "id": "kamqMbuD4FMs",
        "outputId": "1a4d53b7-32af-4682-d1ef-12499240d453"
      },
      "outputs": [
        {
          "data": {
            "text/html": [
              "<ol class=list-inline>\n",
              "\t<li>'orange'</li>\n",
              "\t<li>'apple'</li>\n",
              "\t<li>'orange'</li>\n",
              "\t<li>'apple'</li>\n",
              "\t<li>'orange'</li>\n",
              "\t<li>'apple'</li>\n",
              "\t<li>'orange'</li>\n",
              "\t<li>'apple'</li>\n",
              "\t<li>'orange'</li>\n",
              "\t<li>'apple'</li>\n",
              "\t<li>'orange'</li>\n",
              "\t<li>'apple'</li>\n",
              "\t<li>'orange'</li>\n",
              "\t<li>'apple'</li>\n",
              "\t<li>'orange'</li>\n",
              "\t<li>'apple'</li>\n",
              "\t<li>'orange'</li>\n",
              "\t<li>'apple'</li>\n",
              "\t<li>'orange'</li>\n",
              "\t<li>'apple'</li>\n",
              "</ol>\n"
            ],
            "text/latex": [
              "\\begin{enumerate*}\n",
              "\\item 'orange'\n",
              "\\item 'apple'\n",
              "\\item 'orange'\n",
              "\\item 'apple'\n",
              "\\item 'orange'\n",
              "\\item 'apple'\n",
              "\\item 'orange'\n",
              "\\item 'apple'\n",
              "\\item 'orange'\n",
              "\\item 'apple'\n",
              "\\item 'orange'\n",
              "\\item 'apple'\n",
              "\\item 'orange'\n",
              "\\item 'apple'\n",
              "\\item 'orange'\n",
              "\\item 'apple'\n",
              "\\item 'orange'\n",
              "\\item 'apple'\n",
              "\\item 'orange'\n",
              "\\item 'apple'\n",
              "\\end{enumerate*}\n"
            ],
            "text/markdown": [
              "1. 'orange'\n",
              "2. 'apple'\n",
              "3. 'orange'\n",
              "4. 'apple'\n",
              "5. 'orange'\n",
              "6. 'apple'\n",
              "7. 'orange'\n",
              "8. 'apple'\n",
              "9. 'orange'\n",
              "10. 'apple'\n",
              "11. 'orange'\n",
              "12. 'apple'\n",
              "13. 'orange'\n",
              "14. 'apple'\n",
              "15. 'orange'\n",
              "16. 'apple'\n",
              "17. 'orange'\n",
              "18. 'apple'\n",
              "19. 'orange'\n",
              "20. 'apple'\n",
              "\n",
              "\n"
            ],
            "text/plain": [
              " [1] \"orange\" \"apple\"  \"orange\" \"apple\"  \"orange\" \"apple\"  \"orange\" \"apple\" \n",
              " [9] \"orange\" \"apple\"  \"orange\" \"apple\"  \"orange\" \"apple\"  \"orange\" \"apple\" \n",
              "[17] \"orange\" \"apple\"  \"orange\" \"apple\" "
            ]
          },
          "metadata": {},
          "output_type": "display_data"
        }
      ],
      "source": [
        "# Carry out the subset\n",
        "fruits[lv]"
      ]
    },
    {
      "cell_type": "code",
      "execution_count": null,
      "metadata": {
        "id": "lY6NaDd54FMt",
        "outputId": "c16fca4d-559b-46a8-aff0-53203a2bc666"
      },
      "outputs": [
        {
          "data": {
            "text/html": [
              "<ol class=list-inline>\n",
              "\t<li>0</li>\n",
              "\t<li>10</li>\n",
              "\t<li>20</li>\n",
              "\t<li>30</li>\n",
              "\t<li>40</li>\n",
              "\t<li>50</li>\n",
              "\t<li>60</li>\n",
              "\t<li>70</li>\n",
              "\t<li>80</li>\n",
              "\t<li>90</li>\n",
              "\t<li>100</li>\n",
              "</ol>\n"
            ],
            "text/latex": [
              "\\begin{enumerate*}\n",
              "\\item 0\n",
              "\\item 10\n",
              "\\item 20\n",
              "\\item 30\n",
              "\\item 40\n",
              "\\item 50\n",
              "\\item 60\n",
              "\\item 70\n",
              "\\item 80\n",
              "\\item 90\n",
              "\\item 100\n",
              "\\end{enumerate*}\n"
            ],
            "text/markdown": [
              "1. 0\n",
              "2. 10\n",
              "3. 20\n",
              "4. 30\n",
              "5. 40\n",
              "6. 50\n",
              "7. 60\n",
              "8. 70\n",
              "9. 80\n",
              "10. 90\n",
              "11. 100\n",
              "\n",
              "\n"
            ],
            "text/plain": [
              " [1]   0  10  20  30  40  50  60  70  80  90 100"
            ]
          },
          "metadata": {},
          "output_type": "display_data"
        }
      ],
      "source": [
        "# Create a numeric vector\n",
        "numbers <- seq(0, 100, by = 10)\n",
        "numbers"
      ]
    },
    {
      "cell_type": "code",
      "execution_count": null,
      "metadata": {
        "id": "DHCtOTKh4FMt",
        "outputId": "3f241c94-3b6e-4b98-ea16-e4d3bc7724aa"
      },
      "outputs": [
        {
          "data": {
            "text/html": [
              "<ol class=list-inline>\n",
              "\t<li>0</li>\n",
              "\t<li>10</li>\n",
              "\t<li>20</li>\n",
              "\t<li>40</li>\n",
              "\t<li>50</li>\n",
              "</ol>\n"
            ],
            "text/latex": [
              "\\begin{enumerate*}\n",
              "\\item 0\n",
              "\\item 10\n",
              "\\item 20\n",
              "\\item 40\n",
              "\\item 50\n",
              "\\end{enumerate*}\n"
            ],
            "text/markdown": [
              "1. 0\n",
              "2. 10\n",
              "3. 20\n",
              "4. 40\n",
              "5. 50\n",
              "\n",
              "\n"
            ],
            "text/plain": [
              "[1]  0 10 20 40 50"
            ]
          },
          "metadata": {},
          "output_type": "display_data"
        }
      ],
      "source": [
        "# Illustrate three different filters\n",
        "numbers[numbers <= 50 & numbers != 30]"
      ]
    },
    {
      "cell_type": "code",
      "execution_count": null,
      "metadata": {
        "id": "OCZDqCiT4FMu",
        "outputId": "6fef5ab5-3a15-4cea-b92d-0804d405b565"
      },
      "outputs": [
        {
          "data": {
            "text/html": [
              "<ol class=list-inline>\n",
              "\t<li>0</li>\n",
              "\t<li>100</li>\n",
              "</ol>\n"
            ],
            "text/latex": [
              "\\begin{enumerate*}\n",
              "\\item 0\n",
              "\\item 100\n",
              "\\end{enumerate*}\n"
            ],
            "text/markdown": [
              "1. 0\n",
              "2. 100\n",
              "\n",
              "\n"
            ],
            "text/plain": [
              "[1]   0 100"
            ]
          },
          "metadata": {},
          "output_type": "display_data"
        }
      ],
      "source": [
        "numbers[numbers == 0 | numbers == 100]"
      ]
    },
    {
      "cell_type": "code",
      "execution_count": null,
      "metadata": {
        "id": "zpU7HsRE4FMu",
        "outputId": "570ed86c-d3f9-4eaf-b4f3-a06cbdeaeaef"
      },
      "outputs": [
        {
          "data": {
            "text/html": [],
            "text/latex": [],
            "text/markdown": [],
            "text/plain": [
              "numeric(0)"
            ]
          },
          "metadata": {},
          "output_type": "display_data"
        }
      ],
      "source": [
        "numbers[numbers > 100] #returns an empty vector"
      ]
    },
    {
      "cell_type": "code",
      "execution_count": null,
      "metadata": {
        "id": "DrfTckDo4FMw",
        "outputId": "56f7aba3-3dcd-4be0-9833-fc418bb1019c"
      },
      "outputs": [
        {
          "data": {
            "text/html": [
              "'apple'"
            ],
            "text/latex": [
              "'apple'"
            ],
            "text/markdown": [
              "'apple'"
            ],
            "text/plain": [
              "[1] \"apple\""
            ]
          },
          "metadata": {},
          "output_type": "display_data"
        }
      ],
      "source": [
        "# Subsetting using indexing\n",
        "fruits <- c(\"apple\", \"banana\")\n",
        "fruits[1]"
      ]
    },
    {
      "cell_type": "code",
      "execution_count": null,
      "metadata": {
        "id": "7LP1K60Q4FMw",
        "outputId": "776159fd-9b8b-4ae3-e3ca-0ec5eb602120"
      },
      "outputs": [
        {
          "data": {
            "text/html": [
              "<ol class=list-inline>\n",
              "\t<li>'orange'</li>\n",
              "\t<li>'apple'</li>\n",
              "</ol>\n"
            ],
            "text/latex": [
              "\\begin{enumerate*}\n",
              "\\item 'orange'\n",
              "\\item 'apple'\n",
              "\\end{enumerate*}\n"
            ],
            "text/markdown": [
              "1. 'orange'\n",
              "2. 'apple'\n",
              "\n",
              "\n"
            ],
            "text/plain": [
              "[1] \"orange\" \"apple\" "
            ]
          },
          "metadata": {},
          "output_type": "display_data"
        }
      ],
      "source": [
        "fruits <- rep(c(\"orange\", \"apple\", \"banana\"), 10)\n",
        "fruits[c(10, 20)]"
      ]
    },
    {
      "cell_type": "code",
      "execution_count": null,
      "metadata": {
        "id": "-x5eD4Qz4FMx",
        "outputId": "142066cc-4a65-412d-954f-e8cc3b485ffe"
      },
      "outputs": [
        {
          "data": {
            "text/html": [
              "<ol class=list-inline>\n",
              "\t<li>'orange'</li>\n",
              "\t<li>'banana'</li>\n",
              "\t<li>'apple'</li>\n",
              "\t<li>'orange'</li>\n",
              "\t<li>'banana'</li>\n",
              "\t<li>'apple'</li>\n",
              "</ol>\n"
            ],
            "text/latex": [
              "\\begin{enumerate*}\n",
              "\\item 'orange'\n",
              "\\item 'banana'\n",
              "\\item 'apple'\n",
              "\\item 'orange'\n",
              "\\item 'banana'\n",
              "\\item 'apple'\n",
              "\\end{enumerate*}\n"
            ],
            "text/markdown": [
              "1. 'orange'\n",
              "2. 'banana'\n",
              "3. 'apple'\n",
              "4. 'orange'\n",
              "5. 'banana'\n",
              "6. 'apple'\n",
              "\n",
              "\n"
            ],
            "text/plain": [
              "[1] \"orange\" \"banana\" \"apple\"  \"orange\" \"banana\" \"apple\" "
            ]
          },
          "metadata": {},
          "output_type": "display_data"
        }
      ],
      "source": [
        "fruits[seq(1, 30, by = 5)]"
      ]
    },
    {
      "cell_type": "code",
      "execution_count": null,
      "metadata": {
        "id": "hky_JmF04FMx",
        "outputId": "e5b7a6c9-963b-42e9-80b5-d6ccd0cf5eed"
      },
      "outputs": [
        {
          "data": {
            "text/html": [
              "<ol class=list-inline>\n",
              "\t<li>80</li>\n",
              "\t<li>68</li>\n",
              "\t<li>86</li>\n",
              "\t<li>47</li>\n",
              "\t<li>15</li>\n",
              "\t<li>73</li>\n",
              "\t<li>83</li>\n",
              "\t<li>13</li>\n",
              "\t<li>36</li>\n",
              "\t<li>62</li>\n",
              "</ol>\n"
            ],
            "text/latex": [
              "\\begin{enumerate*}\n",
              "\\item 80\n",
              "\\item 68\n",
              "\\item 86\n",
              "\\item 47\n",
              "\\item 15\n",
              "\\item 73\n",
              "\\item 83\n",
              "\\item 13\n",
              "\\item 36\n",
              "\\item 62\n",
              "\\end{enumerate*}\n"
            ],
            "text/markdown": [
              "1. 80\n",
              "2. 68\n",
              "3. 86\n",
              "4. 47\n",
              "5. 15\n",
              "6. 73\n",
              "7. 83\n",
              "8. 13\n",
              "9. 36\n",
              "10. 62\n",
              "\n",
              "\n"
            ],
            "text/plain": [
              " [1] 80 68 86 47 15 73 83 13 36 62"
            ]
          },
          "metadata": {},
          "output_type": "display_data"
        }
      ],
      "source": [
        "# Draw 10 elements at random from 1 to 100\n",
        "sample(1:100, size = 10)"
      ]
    },
    {
      "cell_type": "code",
      "execution_count": null,
      "metadata": {
        "id": "QWDBD0LN4FMy",
        "outputId": "92c1079f-ffd2-4d2d-b1ea-799332e73ee1"
      },
      "outputs": [
        {
          "data": {
            "text/html": [
              "<ol class=list-inline>\n",
              "\t<li>'orange'</li>\n",
              "\t<li>'apple'</li>\n",
              "\t<li>'orange'</li>\n",
              "\t<li>'banana'</li>\n",
              "\t<li>'apple'</li>\n",
              "</ol>\n"
            ],
            "text/latex": [
              "\\begin{enumerate*}\n",
              "\\item 'orange'\n",
              "\\item 'apple'\n",
              "\\item 'orange'\n",
              "\\item 'banana'\n",
              "\\item 'apple'\n",
              "\\end{enumerate*}\n"
            ],
            "text/markdown": [
              "1. 'orange'\n",
              "2. 'apple'\n",
              "3. 'orange'\n",
              "4. 'banana'\n",
              "5. 'apple'\n",
              "\n",
              "\n"
            ],
            "text/plain": [
              "[1] \"orange\" \"apple\"  \"orange\" \"banana\" \"apple\" "
            ]
          },
          "metadata": {},
          "output_type": "display_data"
        }
      ],
      "source": [
        "fruits <- rep(c(\"orange\", \"apple\", \"banana\"), 10)\n",
        "fruits[sample(1:30, size = 5)]"
      ]
    },
    {
      "cell_type": "code",
      "execution_count": null,
      "metadata": {
        "id": "yD2d8lD_4FMy",
        "outputId": "74eca7db-363b-4847-bde4-d300fe998848"
      },
      "outputs": [
        {
          "data": {
            "text/html": [
              "<dl class=dl-horizontal>\n",
              "\t<dt>mom</dt>\n",
              "\t\t<dd>50</dd>\n",
              "\t<dt>dad</dt>\n",
              "\t\t<dd>55</dd>\n",
              "\t<dt>grandpa</dt>\n",
              "\t\t<dd>80</dd>\n",
              "</dl>\n"
            ],
            "text/latex": [
              "\\begin{description*}\n",
              "\\item[mom] 50\n",
              "\\item[dad] 55\n",
              "\\item[grandpa] 80\n",
              "\\end{description*}\n"
            ],
            "text/markdown": [
              "mom\n",
              ":   50dad\n",
              ":   55grandpa\n",
              ":   80\n",
              "\n"
            ],
            "text/plain": [
              "    mom     dad grandpa \n",
              "     50      55      80 "
            ]
          },
          "metadata": {},
          "output_type": "display_data"
        }
      ],
      "source": [
        "# Subsetting using names\n",
        "age <- c(50, 55, 80)\n",
        "names(age) <- c(\"mom\", \"dad\", \"grandpa\")\n",
        "age #note that values now have names"
      ]
    },
    {
      "cell_type": "code",
      "execution_count": null,
      "metadata": {
        "id": "n0wRfBos4FMz",
        "outputId": "0f418447-e167-4218-c139-d6519b268af5"
      },
      "outputs": [
        {
          "data": {
            "text/html": [
              "<dl class=dl-horizontal>\n",
              "\t<dt>dad</dt>\n",
              "\t\t<dd>55</dd>\n",
              "\t<dt>grandpa</dt>\n",
              "\t\t<dd>80</dd>\n",
              "</dl>\n"
            ],
            "text/latex": [
              "\\begin{description*}\n",
              "\\item[dad] 55\n",
              "\\item[grandpa] 80\n",
              "\\end{description*}\n"
            ],
            "text/markdown": [
              "dad\n",
              ":   55grandpa\n",
              ":   80\n",
              "\n"
            ],
            "text/plain": [
              "    dad grandpa \n",
              "     55      80 "
            ]
          },
          "metadata": {},
          "output_type": "display_data"
        }
      ],
      "source": [
        "age[c(\"dad\", \"grandpa\")]"
      ]
    },
    {
      "cell_type": "code",
      "execution_count": null,
      "metadata": {
        "id": "TYHK7eN64FM0",
        "outputId": "2950743a-85d3-448d-a66d-14aa7bb6b73d"
      },
      "outputs": [
        {
          "data": {
            "text/html": [
              "<dl class=dl-horizontal>\n",
              "\t<dt>mom</dt>\n",
              "\t\t<dd>50</dd>\n",
              "\t<dt>dad</dt>\n",
              "\t\t<dd>55</dd>\n",
              "\t<dt>grandpa</dt>\n",
              "\t\t<dd>82</dd>\n",
              "</dl>\n"
            ],
            "text/latex": [
              "\\begin{description*}\n",
              "\\item[mom] 50\n",
              "\\item[dad] 55\n",
              "\\item[grandpa] 82\n",
              "\\end{description*}\n"
            ],
            "text/markdown": [
              "mom\n",
              ":   50dad\n",
              ":   55grandpa\n",
              ":   82\n",
              "\n"
            ],
            "text/plain": [
              "    mom     dad grandpa \n",
              "     50      55      82 "
            ]
          },
          "metadata": {},
          "output_type": "display_data"
        }
      ],
      "source": [
        "# Modifying vectors\n",
        "# Recreate vector with age values from above\n",
        "age <- c(50, 55, 80)\n",
        "names(age) <- c(\"mom\", \"dad\", \"grandpa\")\n",
        "\n",
        "# Three ways of changing grandpa's age\n",
        "# Note: you'd only need to use one of these\n",
        "age[age == 80] <- 82 #using a logical statement\n",
        "age[3] <- 82 #using indexing\n",
        "age[\"grandpa\"] <- 82 #using naming\n",
        "age"
      ]
    },
    {
      "cell_type": "code",
      "execution_count": null,
      "metadata": {
        "id": "90LJV1vb4FM0",
        "outputId": "ff73873f-b574-43a3-a345-581dfabb57d6"
      },
      "outputs": [
        {
          "data": {
            "text/html": [
              "<ol class=list-inline>\n",
              "\t<li>'orange'</li>\n",
              "\t<li>'apple'</li>\n",
              "\t<li>'bamama'</li>\n",
              "\t<li>'orange'</li>\n",
              "\t<li>'apple'</li>\n",
              "\t<li>'bamama'</li>\n",
              "\t<li>'orange'</li>\n",
              "\t<li>'apple'</li>\n",
              "\t<li>'bamama'</li>\n",
              "\t<li>'orange'</li>\n",
              "\t<li>'apple'</li>\n",
              "\t<li>'bamama'</li>\n",
              "\t<li>'orange'</li>\n",
              "\t<li>'apple'</li>\n",
              "\t<li>'bamama'</li>\n",
              "</ol>\n"
            ],
            "text/latex": [
              "\\begin{enumerate*}\n",
              "\\item 'orange'\n",
              "\\item 'apple'\n",
              "\\item 'bamama'\n",
              "\\item 'orange'\n",
              "\\item 'apple'\n",
              "\\item 'bamama'\n",
              "\\item 'orange'\n",
              "\\item 'apple'\n",
              "\\item 'bamama'\n",
              "\\item 'orange'\n",
              "\\item 'apple'\n",
              "\\item 'bamama'\n",
              "\\item 'orange'\n",
              "\\item 'apple'\n",
              "\\item 'bamama'\n",
              "\\end{enumerate*}\n"
            ],
            "text/markdown": [
              "1. 'orange'\n",
              "2. 'apple'\n",
              "3. 'bamama'\n",
              "4. 'orange'\n",
              "5. 'apple'\n",
              "6. 'bamama'\n",
              "7. 'orange'\n",
              "8. 'apple'\n",
              "9. 'bamama'\n",
              "10. 'orange'\n",
              "11. 'apple'\n",
              "12. 'bamama'\n",
              "13. 'orange'\n",
              "14. 'apple'\n",
              "15. 'bamama'\n",
              "\n",
              "\n"
            ],
            "text/plain": [
              " [1] \"orange\" \"apple\"  \"bamama\" \"orange\" \"apple\"  \"bamama\" \"orange\" \"apple\" \n",
              " [9] \"bamama\" \"orange\" \"apple\"  \"bamama\" \"orange\" \"apple\"  \"bamama\""
            ]
          },
          "metadata": {},
          "output_type": "display_data"
        }
      ],
      "source": [
        "fruits <- rep(c(\"orange\", \"apple\", \"bamama\"), 5)\n",
        "fruits #bamamas anyone?"
      ]
    },
    {
      "cell_type": "code",
      "execution_count": null,
      "metadata": {
        "id": "YcSaT08_4FM1",
        "outputId": "43207f5d-33d6-497e-b039-11d41e906dac"
      },
      "outputs": [
        {
          "data": {
            "text/html": [
              "<ol class=list-inline>\n",
              "\t<li>'orange'</li>\n",
              "\t<li>'apple'</li>\n",
              "\t<li>'banana'</li>\n",
              "\t<li>'orange'</li>\n",
              "\t<li>'apple'</li>\n",
              "\t<li>'banana'</li>\n",
              "\t<li>'orange'</li>\n",
              "\t<li>'apple'</li>\n",
              "\t<li>'banana'</li>\n",
              "\t<li>'orange'</li>\n",
              "\t<li>'apple'</li>\n",
              "\t<li>'banana'</li>\n",
              "\t<li>'orange'</li>\n",
              "\t<li>'apple'</li>\n",
              "\t<li>'banana'</li>\n",
              "</ol>\n"
            ],
            "text/latex": [
              "\\begin{enumerate*}\n",
              "\\item 'orange'\n",
              "\\item 'apple'\n",
              "\\item 'banana'\n",
              "\\item 'orange'\n",
              "\\item 'apple'\n",
              "\\item 'banana'\n",
              "\\item 'orange'\n",
              "\\item 'apple'\n",
              "\\item 'banana'\n",
              "\\item 'orange'\n",
              "\\item 'apple'\n",
              "\\item 'banana'\n",
              "\\item 'orange'\n",
              "\\item 'apple'\n",
              "\\item 'banana'\n",
              "\\end{enumerate*}\n"
            ],
            "text/markdown": [
              "1. 'orange'\n",
              "2. 'apple'\n",
              "3. 'banana'\n",
              "4. 'orange'\n",
              "5. 'apple'\n",
              "6. 'banana'\n",
              "7. 'orange'\n",
              "8. 'apple'\n",
              "9. 'banana'\n",
              "10. 'orange'\n",
              "11. 'apple'\n",
              "12. 'banana'\n",
              "13. 'orange'\n",
              "14. 'apple'\n",
              "15. 'banana'\n",
              "\n",
              "\n"
            ],
            "text/plain": [
              " [1] \"orange\" \"apple\"  \"banana\" \"orange\" \"apple\"  \"banana\" \"orange\" \"apple\" \n",
              " [9] \"banana\" \"orange\" \"apple\"  \"banana\" \"orange\" \"apple\"  \"banana\""
            ]
          },
          "metadata": {},
          "output_type": "display_data"
        }
      ],
      "source": [
        "# Let's fix the misspelled element\n",
        "fruits[fruits == \"bamama\"] <- \"banana\"\n",
        "fruits"
      ]
    },
    {
      "cell_type": "code",
      "execution_count": null,
      "metadata": {
        "id": "MkwlowPf4FM1",
        "outputId": "98ae3c66-9964-4c88-bcaf-ac654e1e4758"
      },
      "outputs": [
        {
          "data": {
            "text/html": [
              "<ol class=list-inline>\n",
              "\t<li>1</li>\n",
              "\t<li>2</li>\n",
              "\t<li>3</li>\n",
              "\t<li>4</li>\n",
              "\t<li>5</li>\n",
              "\t<li>6</li>\n",
              "\t<li>7</li>\n",
              "\t<li>8</li>\n",
              "\t<li>9</li>\n",
              "\t<li>10</li>\n",
              "</ol>\n"
            ],
            "text/latex": [
              "\\begin{enumerate*}\n",
              "\\item 1\n",
              "\\item 2\n",
              "\\item 3\n",
              "\\item 4\n",
              "\\item 5\n",
              "\\item 6\n",
              "\\item 7\n",
              "\\item 8\n",
              "\\item 9\n",
              "\\item 10\n",
              "\\end{enumerate*}\n"
            ],
            "text/markdown": [
              "1. 1\n",
              "2. 2\n",
              "3. 3\n",
              "4. 4\n",
              "5. 5\n",
              "6. 6\n",
              "7. 7\n",
              "8. 8\n",
              "9. 9\n",
              "10. 10\n",
              "\n",
              "\n"
            ],
            "text/plain": [
              " [1]  1  2  3  4  5  6  7  8  9 10"
            ]
          },
          "metadata": {},
          "output_type": "display_data"
        }
      ],
      "source": [
        "# Vector arithmetics\n",
        "numbers <- 1:10\n",
        "numbers"
      ]
    },
    {
      "cell_type": "code",
      "execution_count": null,
      "metadata": {
        "id": "mKNW_6ae4FM1",
        "outputId": "1c4e73ec-ae5e-40b9-bdaf-fdb94aae35b8"
      },
      "outputs": [
        {
          "data": {
            "text/html": [
              "<ol class=list-inline>\n",
              "\t<li>0.1</li>\n",
              "\t<li>0.2</li>\n",
              "\t<li>0.3</li>\n",
              "\t<li>0.4</li>\n",
              "\t<li>0.5</li>\n",
              "\t<li>0.6</li>\n",
              "\t<li>0.7</li>\n",
              "\t<li>0.8</li>\n",
              "\t<li>0.9</li>\n",
              "\t<li>1</li>\n",
              "</ol>\n"
            ],
            "text/latex": [
              "\\begin{enumerate*}\n",
              "\\item 0.1\n",
              "\\item 0.2\n",
              "\\item 0.3\n",
              "\\item 0.4\n",
              "\\item 0.5\n",
              "\\item 0.6\n",
              "\\item 0.7\n",
              "\\item 0.8\n",
              "\\item 0.9\n",
              "\\item 1\n",
              "\\end{enumerate*}\n"
            ],
            "text/markdown": [
              "1. 0.1\n",
              "2. 0.2\n",
              "3. 0.3\n",
              "4. 0.4\n",
              "5. 0.5\n",
              "6. 0.6\n",
              "7. 0.7\n",
              "8. 0.8\n",
              "9. 0.9\n",
              "10. 1\n",
              "\n",
              "\n"
            ],
            "text/plain": [
              " [1] 0.1 0.2 0.3 0.4 0.5 0.6 0.7 0.8 0.9 1.0"
            ]
          },
          "metadata": {},
          "output_type": "display_data"
        }
      ],
      "source": [
        "# One value modifying all values in a vector\n",
        "numbers <- numbers / 10\n",
        "numbers"
      ]
    },
    {
      "cell_type": "code",
      "execution_count": null,
      "metadata": {
        "id": "V_tVFHin4FM2",
        "outputId": "3a9e0ddb-b53b-4390-a20b-0ca92f2f1f35"
      },
      "outputs": [
        {
          "data": {
            "text/html": [
              "<ol class=list-inline>\n",
              "\t<li>0.1</li>\n",
              "\t<li>0.2</li>\n",
              "\t<li>0.3</li>\n",
              "\t<li>0.4</li>\n",
              "\t<li>0.5</li>\n",
              "\t<li>60</li>\n",
              "\t<li>70</li>\n",
              "\t<li>80</li>\n",
              "\t<li>90</li>\n",
              "\t<li>100</li>\n",
              "</ol>\n"
            ],
            "text/latex": [
              "\\begin{enumerate*}\n",
              "\\item 0.1\n",
              "\\item 0.2\n",
              "\\item 0.3\n",
              "\\item 0.4\n",
              "\\item 0.5\n",
              "\\item 60\n",
              "\\item 70\n",
              "\\item 80\n",
              "\\item 90\n",
              "\\item 100\n",
              "\\end{enumerate*}\n"
            ],
            "text/markdown": [
              "1. 0.1\n",
              "2. 0.2\n",
              "3. 0.3\n",
              "4. 0.4\n",
              "5. 0.5\n",
              "6. 60\n",
              "7. 70\n",
              "8. 80\n",
              "9. 90\n",
              "10. 100\n",
              "\n",
              "\n"
            ],
            "text/plain": [
              " [1]   0.1   0.2   0.3   0.4   0.5  60.0  70.0  80.0  90.0 100.0"
            ]
          },
          "metadata": {},
          "output_type": "display_data"
        }
      ],
      "source": [
        "# One value modifying a subset of a vector\n",
        "numbers[numbers > 0.5] <- numbers[numbers > 0.5] * 100\n",
        "numbers"
      ]
    },
    {
      "cell_type": "code",
      "execution_count": null,
      "metadata": {
        "id": "jDDc33Tl4FM2",
        "outputId": "b6aa7317-1d51-43b1-d1b6-d43e3c31887e"
      },
      "outputs": [
        {
          "data": {
            "text/html": [
              "<ol class=list-inline>\n",
              "\t<li>9</li>\n",
              "\t<li>7</li>\n",
              "\t<li>5</li>\n",
              "\t<li>3</li>\n",
              "\t<li>1</li>\n",
              "\t<li>-1</li>\n",
              "\t<li>-3</li>\n",
              "\t<li>-5</li>\n",
              "\t<li>-7</li>\n",
              "\t<li>-9</li>\n",
              "</ol>\n"
            ],
            "text/latex": [
              "\\begin{enumerate*}\n",
              "\\item 9\n",
              "\\item 7\n",
              "\\item 5\n",
              "\\item 3\n",
              "\\item 1\n",
              "\\item -1\n",
              "\\item -3\n",
              "\\item -5\n",
              "\\item -7\n",
              "\\item -9\n",
              "\\end{enumerate*}\n"
            ],
            "text/markdown": [
              "1. 9\n",
              "2. 7\n",
              "3. 5\n",
              "4. 3\n",
              "5. 1\n",
              "6. -1\n",
              "7. -3\n",
              "8. -5\n",
              "9. -7\n",
              "10. -9\n",
              "\n",
              "\n"
            ],
            "text/plain": [
              " [1]  9  7  5  3  1 -1 -3 -5 -7 -9"
            ]
          },
          "metadata": {},
          "output_type": "display_data"
        }
      ],
      "source": [
        "# Two vectors with the same number of elements\n",
        "numbers1 <- 1:10\n",
        "numbers2 <- 10:1\n",
        "numbers3 <- numbers2 - numbers1\n",
        "numbers3"
      ]
    },
    {
      "cell_type": "code",
      "execution_count": null,
      "metadata": {
        "id": "tOejeD8m4FM2",
        "outputId": "817e0129-51d8-4a76-ca6d-1db4d782dc67"
      },
      "outputs": [
        {
          "data": {
            "text/html": [
              "<ol class=list-inline>\n",
              "\t<li>1</li>\n",
              "\t<li>2</li>\n",
              "\t<li>3</li>\n",
              "\t<li>4</li>\n",
              "\t<li>5</li>\n",
              "\t<li>5</li>\n",
              "\t<li>4</li>\n",
              "\t<li>3</li>\n",
              "\t<li>2</li>\n",
              "\t<li>1</li>\n",
              "</ol>\n"
            ],
            "text/latex": [
              "\\begin{enumerate*}\n",
              "\\item 1\n",
              "\\item 2\n",
              "\\item 3\n",
              "\\item 4\n",
              "\\item 5\n",
              "\\item 5\n",
              "\\item 4\n",
              "\\item 3\n",
              "\\item 2\n",
              "\\item 1\n",
              "\\end{enumerate*}\n"
            ],
            "text/markdown": [
              "1. 1\n",
              "2. 2\n",
              "3. 3\n",
              "4. 4\n",
              "5. 5\n",
              "6. 5\n",
              "7. 4\n",
              "8. 3\n",
              "9. 2\n",
              "10. 1\n",
              "\n",
              "\n"
            ],
            "text/plain": [
              " [1] 1 2 3 4 5 5 4 3 2 1"
            ]
          },
          "metadata": {},
          "output_type": "display_data"
        }
      ],
      "source": [
        "# Replacing a subset of a vector using another vector\n",
        "numbers <- 1:10\n",
        "numbers[numbers > 5] <- 5:1\n",
        "numbers"
      ]
    },
    {
      "cell_type": "code",
      "execution_count": null,
      "metadata": {
        "id": "K_EojTuO4FM3",
        "outputId": "707588b5-d4fc-4b22-dfdd-bdd37f018cd6"
      },
      "outputs": [
        {
          "data": {
            "text/html": [
              "<ol class=list-inline>\n",
              "\t<li>1</li>\n",
              "\t<li>1.4142135623731</li>\n",
              "\t<li>1.73205080756888</li>\n",
              "\t<li>2</li>\n",
              "\t<li>2.23606797749979</li>\n",
              "\t<li>2.44948974278318</li>\n",
              "\t<li>2.64575131106459</li>\n",
              "\t<li>2.82842712474619</li>\n",
              "\t<li>3</li>\n",
              "\t<li>3.16227766016838</li>\n",
              "</ol>\n"
            ],
            "text/latex": [
              "\\begin{enumerate*}\n",
              "\\item 1\n",
              "\\item 1.4142135623731\n",
              "\\item 1.73205080756888\n",
              "\\item 2\n",
              "\\item 2.23606797749979\n",
              "\\item 2.44948974278318\n",
              "\\item 2.64575131106459\n",
              "\\item 2.82842712474619\n",
              "\\item 3\n",
              "\\item 3.16227766016838\n",
              "\\end{enumerate*}\n"
            ],
            "text/markdown": [
              "1. 1\n",
              "2. 1.4142135623731\n",
              "3. 1.73205080756888\n",
              "4. 2\n",
              "5. 2.23606797749979\n",
              "6. 2.44948974278318\n",
              "7. 2.64575131106459\n",
              "8. 2.82842712474619\n",
              "9. 3\n",
              "10. 3.16227766016838\n",
              "\n",
              "\n"
            ],
            "text/plain": [
              " [1] 1.000000 1.414214 1.732051 2.000000 2.236068 2.449490 2.645751 2.828427\n",
              " [9] 3.000000 3.162278"
            ]
          },
          "metadata": {},
          "output_type": "display_data"
        }
      ],
      "source": [
        "# Modify a vector (or a subset of a vector) using a function\n",
        "numbers <- 1:10\n",
        "sqrt(numbers) #square root"
      ]
    },
    {
      "cell_type": "code",
      "execution_count": null,
      "metadata": {
        "id": "ooyWovMa4FM3",
        "outputId": "68bca847-f8b2-4028-ae66-d8becb447afb"
      },
      "outputs": [
        {
          "data": {
            "text/html": [
              "<ol class=list-inline>\n",
              "\t<li>2.71828182845905</li>\n",
              "\t<li>7.38905609893065</li>\n",
              "\t<li>20.0855369231877</li>\n",
              "\t<li>54.5981500331442</li>\n",
              "\t<li>148.413159102577</li>\n",
              "\t<li>403.428793492735</li>\n",
              "\t<li>1096.63315842846</li>\n",
              "\t<li>2980.95798704173</li>\n",
              "\t<li>8103.08392757538</li>\n",
              "\t<li>22026.4657948067</li>\n",
              "</ol>\n"
            ],
            "text/latex": [
              "\\begin{enumerate*}\n",
              "\\item 2.71828182845905\n",
              "\\item 7.38905609893065\n",
              "\\item 20.0855369231877\n",
              "\\item 54.5981500331442\n",
              "\\item 148.413159102577\n",
              "\\item 403.428793492735\n",
              "\\item 1096.63315842846\n",
              "\\item 2980.95798704173\n",
              "\\item 8103.08392757538\n",
              "\\item 22026.4657948067\n",
              "\\end{enumerate*}\n"
            ],
            "text/markdown": [
              "1. 2.71828182845905\n",
              "2. 7.38905609893065\n",
              "3. 20.0855369231877\n",
              "4. 54.5981500331442\n",
              "5. 148.413159102577\n",
              "6. 403.428793492735\n",
              "7. 1096.63315842846\n",
              "8. 2980.95798704173\n",
              "9. 8103.08392757538\n",
              "10. 22026.4657948067\n",
              "\n",
              "\n"
            ],
            "text/plain": [
              " [1]     2.718282     7.389056    20.085537    54.598150   148.413159\n",
              " [6]   403.428793  1096.633158  2980.957987  8103.083928 22026.465795"
            ]
          },
          "metadata": {},
          "output_type": "display_data"
        }
      ],
      "source": [
        "exp(numbers) #exponentiate"
      ]
    },
    {
      "cell_type": "code",
      "execution_count": null,
      "metadata": {
        "id": "2c6VVuIt4FM4",
        "outputId": "ae5b6c18-16d6-48b1-f84f-0752fae39921"
      },
      "outputs": [
        {
          "data": {
            "text/html": [
              "<ol class=list-inline>\n",
              "\t<li>0</li>\n",
              "\t<li>1.6094379124341</li>\n",
              "\t<li>2.30258509299405</li>\n",
              "</ol>\n"
            ],
            "text/latex": [
              "\\begin{enumerate*}\n",
              "\\item 0\n",
              "\\item 1.6094379124341\n",
              "\\item 2.30258509299405\n",
              "\\end{enumerate*}\n"
            ],
            "text/markdown": [
              "1. 0\n",
              "2. 1.6094379124341\n",
              "3. 2.30258509299405\n",
              "\n",
              "\n"
            ],
            "text/plain": [
              "[1] 0.000000 1.609438 2.302585"
            ]
          },
          "metadata": {},
          "output_type": "display_data"
        }
      ],
      "source": [
        "log(numbers[c(1, 5, 10)]) #natural log"
      ]
    },
    {
      "cell_type": "code",
      "execution_count": null,
      "metadata": {
        "id": "skTeEoX94FM4",
        "outputId": "2ae7a136-0d08-4371-a564-2203fe99077d"
      },
      "outputs": [
        {
          "data": {
            "text/html": [
              "<ol class=list-inline>\n",
              "\t<li>666</li>\n",
              "\t<li>611</li>\n",
              "\t<li>489</li>\n",
              "\t<li>255</li>\n",
              "\t<li>232</li>\n",
              "\t<li>637</li>\n",
              "\t<li>560</li>\n",
              "\t<li>301</li>\n",
              "\t<li>145</li>\n",
              "\t<li>574</li>\n",
              "</ol>\n"
            ],
            "text/latex": [
              "\\begin{enumerate*}\n",
              "\\item 666\n",
              "\\item 611\n",
              "\\item 489\n",
              "\\item 255\n",
              "\\item 232\n",
              "\\item 637\n",
              "\\item 560\n",
              "\\item 301\n",
              "\\item 145\n",
              "\\item 574\n",
              "\\end{enumerate*}\n"
            ],
            "text/markdown": [
              "1. 666\n",
              "2. 611\n",
              "3. 489\n",
              "4. 255\n",
              "5. 232\n",
              "6. 637\n",
              "7. 560\n",
              "8. 301\n",
              "9. 145\n",
              "10. 574\n",
              "\n",
              "\n"
            ],
            "text/plain": [
              " [1] 666 611 489 255 232 637 560 301 145 574"
            ]
          },
          "metadata": {},
          "output_type": "display_data"
        }
      ],
      "source": [
        "# Summarizing vectors\n",
        "numbers <- sample(1:1000, 10)\n",
        "numbers"
      ]
    },
    {
      "cell_type": "code",
      "execution_count": null,
      "metadata": {
        "id": "qTNcv1wb4FM_",
        "outputId": "ba778af0-4fca-4193-9c01-1b2e3c07f4ae"
      },
      "outputs": [
        {
          "data": {
            "text/html": [
              "'integer'"
            ],
            "text/latex": [
              "'integer'"
            ],
            "text/markdown": [
              "'integer'"
            ],
            "text/plain": [
              "[1] \"integer\""
            ]
          },
          "metadata": {},
          "output_type": "display_data"
        }
      ],
      "source": [
        "class(numbers) #check the class"
      ]
    },
    {
      "cell_type": "code",
      "execution_count": null,
      "metadata": {
        "id": "JTLV8GUA4FM_",
        "outputId": "75002c7d-95cb-4376-9c85-b80fcb51da51"
      },
      "outputs": [
        {
          "data": {
            "text/html": [
              "145"
            ],
            "text/latex": [
              "145"
            ],
            "text/markdown": [
              "145"
            ],
            "text/plain": [
              "[1] 145"
            ]
          },
          "metadata": {},
          "output_type": "display_data"
        }
      ],
      "source": [
        "numbers <- sample(1:1000, 10)\n",
        "numbers"
      ]
    },
    {
      "cell_type": "code",
      "execution_count": null,
      "metadata": {
        "id": "OdQXSs8m4FNA",
        "outputId": "5f91e449-a591-456c-ae94-40ddf9b0f533"
      },
      "outputs": [
        {
          "data": {
            "text/html": [
              "10"
            ],
            "text/latex": [
              "10"
            ],
            "text/markdown": [
              "10"
            ],
            "text/plain": [
              "[1] 10"
            ]
          },
          "metadata": {},
          "output_type": "display_data"
        },
        {
          "data": {
            "text/html": [
              "666"
            ],
            "text/latex": [
              "666"
            ],
            "text/markdown": [
              "666"
            ],
            "text/plain": [
              "[1] 666"
            ]
          },
          "metadata": {},
          "output_type": "display_data"
        },
        {
          "data": {
            "text/html": [
              "145"
            ],
            "text/latex": [
              "145"
            ],
            "text/markdown": [
              "145"
            ],
            "text/plain": [
              "[1] 145"
            ]
          },
          "metadata": {},
          "output_type": "display_data"
        },
        {
          "data": {
            "text/html": [
              "4470"
            ],
            "text/latex": [
              "4470"
            ],
            "text/markdown": [
              "4470"
            ],
            "text/plain": [
              "[1] 4470"
            ]
          },
          "metadata": {},
          "output_type": "display_data"
        },
        {
          "data": {
            "text/html": [
              "447"
            ],
            "text/latex": [
              "447"
            ],
            "text/markdown": [
              "447"
            ],
            "text/plain": [
              "[1] 447"
            ]
          },
          "metadata": {},
          "output_type": "display_data"
        },
        {
          "data": {
            "text/html": [
              "524.5"
            ],
            "text/latex": [
              "524.5"
            ],
            "text/markdown": [
              "524.5"
            ],
            "text/plain": [
              "[1] 524.5"
            ]
          },
          "metadata": {},
          "output_type": "display_data"
        },
        {
          "data": {
            "text/html": [
              "37469.7777777778"
            ],
            "text/latex": [
              "37469.7777777778"
            ],
            "text/markdown": [
              "37469.7777777778"
            ],
            "text/plain": [
              "[1] 37469.78"
            ]
          },
          "metadata": {},
          "output_type": "display_data"
        },
        {
          "data": {
            "text/html": [
              "193.571118139504"
            ],
            "text/latex": [
              "193.571118139504"
            ],
            "text/markdown": [
              "193.571118139504"
            ],
            "text/plain": [
              "[1] 193.5711"
            ]
          },
          "metadata": {},
          "output_type": "display_data"
        },
        {
          "data": {
            "text/html": [
              "<dl class=dl-horizontal>\n",
              "\t<dt>0%</dt>\n",
              "\t\t<dd>145</dd>\n",
              "\t<dt>25%</dt>\n",
              "\t\t<dd>266.5</dd>\n",
              "\t<dt>50%</dt>\n",
              "\t\t<dd>524.5</dd>\n",
              "\t<dt>75%</dt>\n",
              "\t\t<dd>601.75</dd>\n",
              "\t<dt>100%</dt>\n",
              "\t\t<dd>666</dd>\n",
              "</dl>\n"
            ],
            "text/latex": [
              "\\begin{description*}\n",
              "\\item[0\\textbackslash{}\\%] 145\n",
              "\\item[25\\textbackslash{}\\%] 266.5\n",
              "\\item[50\\textbackslash{}\\%] 524.5\n",
              "\\item[75\\textbackslash{}\\%] 601.75\n",
              "\\item[100\\textbackslash{}\\%] 666\n",
              "\\end{description*}\n"
            ],
            "text/markdown": [
              "0%\n",
              ":   14525%\n",
              ":   266.550%\n",
              ":   524.575%\n",
              ":   601.75100%\n",
              ":   666\n",
              "\n"
            ],
            "text/plain": [
              "    0%    25%    50%    75%   100% \n",
              "145.00 266.50 524.50 601.75 666.00 "
            ]
          },
          "metadata": {},
          "output_type": "display_data"
        },
        {
          "data": {
            "text/html": [
              "<dl class=dl-horizontal>\n",
              "\t<dt>0%</dt>\n",
              "\t\t<dd>145</dd>\n",
              "\t<dt>10%</dt>\n",
              "\t\t<dd>223.3</dd>\n",
              "\t<dt>20%</dt>\n",
              "\t\t<dd>250.4</dd>\n",
              "\t<dt>30%</dt>\n",
              "\t\t<dd>287.2</dd>\n",
              "\t<dt>40%</dt>\n",
              "\t\t<dd>413.8</dd>\n",
              "\t<dt>50%</dt>\n",
              "\t\t<dd>524.5</dd>\n",
              "\t<dt>60%</dt>\n",
              "\t\t<dd>565.6</dd>\n",
              "\t<dt>70%</dt>\n",
              "\t\t<dd>585.1</dd>\n",
              "\t<dt>80%</dt>\n",
              "\t\t<dd>616.2</dd>\n",
              "\t<dt>90%</dt>\n",
              "\t\t<dd>639.9</dd>\n",
              "\t<dt>100%</dt>\n",
              "\t\t<dd>666</dd>\n",
              "</dl>\n"
            ],
            "text/latex": [
              "\\begin{description*}\n",
              "\\item[0\\textbackslash{}\\%] 145\n",
              "\\item[10\\textbackslash{}\\%] 223.3\n",
              "\\item[20\\textbackslash{}\\%] 250.4\n",
              "\\item[30\\textbackslash{}\\%] 287.2\n",
              "\\item[40\\textbackslash{}\\%] 413.8\n",
              "\\item[50\\textbackslash{}\\%] 524.5\n",
              "\\item[60\\textbackslash{}\\%] 565.6\n",
              "\\item[70\\textbackslash{}\\%] 585.1\n",
              "\\item[80\\textbackslash{}\\%] 616.2\n",
              "\\item[90\\textbackslash{}\\%] 639.9\n",
              "\\item[100\\textbackslash{}\\%] 666\n",
              "\\end{description*}\n"
            ],
            "text/markdown": [
              "0%\n",
              ":   14510%\n",
              ":   223.320%\n",
              ":   250.430%\n",
              ":   287.240%\n",
              ":   413.850%\n",
              ":   524.560%\n",
              ":   565.670%\n",
              ":   585.180%\n",
              ":   616.290%\n",
              ":   639.9100%\n",
              ":   666\n",
              "\n"
            ],
            "text/plain": [
              "   0%   10%   20%   30%   40%   50%   60%   70%   80%   90%  100% \n",
              "145.0 223.3 250.4 287.2 413.8 524.5 565.6 585.1 616.2 639.9 666.0 "
            ]
          },
          "metadata": {},
          "output_type": "display_data"
        },
        {
          "data": {
            "text/plain": [
              "   Min. 1st Qu.  Median    Mean 3rd Qu.    Max. \n",
              "  145.0   266.5   524.5   447.0   601.8   666.0 "
            ]
          },
          "metadata": {},
          "output_type": "display_data"
        }
      ],
      "source": [
        "length(numbers) #number of elements\n",
        "\n",
        "max(numbers) #maximum value\n",
        "\n",
        "min(numbers) #minimum value\n",
        "\n",
        "sum(numbers) #sum of all values in the vector\n",
        "\n",
        "mean(numbers) #mean\n",
        "\n",
        "median(numbers) #median\n",
        "\n",
        "var(numbers) #variance\n",
        "\n",
        "sd(numbers) #standard deviation\n",
        "\n",
        "quantile(numbers) #percentiles in intervals of .25\n",
        "\n",
        "quantile(numbers, probs = seq(0, 1, 0.1)) #percentiles in invervals of 0.1\n",
        "\n",
        "summary(numbers)"
      ]
    },
    {
      "cell_type": "code",
      "execution_count": null,
      "metadata": {
        "id": "RnzmYYCt4FNB",
        "outputId": "5ef893ba-fa36-46ca-e411-630c283cdf68"
      },
      "outputs": [
        {
          "data": {
            "text/html": [
              "<table>\n",
              "<tbody>\n",
              "\t<tr><td>2</td><td>4</td><td>3</td></tr>\n",
              "\t<tr><td>1</td><td>5</td><td>7</td></tr>\n",
              "</tbody>\n",
              "</table>\n"
            ],
            "text/latex": [
              "\\begin{tabular}{lll}\n",
              "\t 2 & 4 & 3\\\\\n",
              "\t 1 & 5 & 7\\\\\n",
              "\\end{tabular}\n"
            ],
            "text/markdown": [
              "\n",
              "| 2 | 4 | 3 |\n",
              "| 1 | 5 | 7 |\n",
              "\n"
            ],
            "text/plain": [
              "     [,1] [,2] [,3]\n",
              "[1,] 2    4    3   \n",
              "[2,] 1    5    7   "
            ]
          },
          "metadata": {},
          "output_type": "display_data"
        }
      ],
      "source": [
        " A = matrix(\n",
        "     c(2, 4, 3, 1, 5, 7), # the data elements\n",
        "     nrow=2,              # number of rows\n",
        "     ncol=3,              # number of columns\n",
        "     byrow = TRUE)        # fill matrix by rows\n",
        "A"
      ]
    },
    {
      "cell_type": "code",
      "execution_count": null,
      "metadata": {
        "id": "BJXmutGj4FNB",
        "outputId": "c1645f3d-5d95-4ca1-e085-a516dd0fb40d"
      },
      "outputs": [
        {
          "data": {
            "text/html": [
              "7"
            ],
            "text/latex": [
              "7"
            ],
            "text/markdown": [
              "7"
            ],
            "text/plain": [
              "[1] 7"
            ]
          },
          "metadata": {},
          "output_type": "display_data"
        }
      ],
      "source": [
        "A[2, 3]"
      ]
    },
    {
      "cell_type": "code",
      "execution_count": null,
      "metadata": {
        "id": "jasn01PG4FNB",
        "outputId": "3e1e4d71-64ca-479d-d905-82c88432df0c"
      },
      "outputs": [
        {
          "data": {
            "text/html": [
              "<ol class=list-inline>\n",
              "\t<li>1</li>\n",
              "\t<li>5</li>\n",
              "\t<li>7</li>\n",
              "</ol>\n"
            ],
            "text/latex": [
              "\\begin{enumerate*}\n",
              "\\item 1\n",
              "\\item 5\n",
              "\\item 7\n",
              "\\end{enumerate*}\n"
            ],
            "text/markdown": [
              "1. 1\n",
              "2. 5\n",
              "3. 7\n",
              "\n",
              "\n"
            ],
            "text/plain": [
              "[1] 1 5 7"
            ]
          },
          "metadata": {},
          "output_type": "display_data"
        }
      ],
      "source": [
        "A[2, ]"
      ]
    },
    {
      "cell_type": "code",
      "execution_count": null,
      "metadata": {
        "id": "MZyhKEpG4FNB",
        "outputId": "ea7f20f8-7d9b-4dba-bb6c-85d3537e020b"
      },
      "outputs": [
        {
          "data": {
            "text/html": [
              "<ol class=list-inline>\n",
              "\t<li>3</li>\n",
              "\t<li>7</li>\n",
              "</ol>\n"
            ],
            "text/latex": [
              "\\begin{enumerate*}\n",
              "\\item 3\n",
              "\\item 7\n",
              "\\end{enumerate*}\n"
            ],
            "text/markdown": [
              "1. 3\n",
              "2. 7\n",
              "\n",
              "\n"
            ],
            "text/plain": [
              "[1] 3 7"
            ]
          },
          "metadata": {},
          "output_type": "display_data"
        }
      ],
      "source": [
        "A[ ,3]"
      ]
    },
    {
      "cell_type": "code",
      "execution_count": null,
      "metadata": {
        "id": "7ScaCO-c4FNC",
        "outputId": "929a7102-f526-42fc-fb99-3d51944fee5a"
      },
      "outputs": [
        {
          "data": {
            "text/html": [
              "<table>\n",
              "<tbody>\n",
              "\t<tr><td>2</td><td>3</td></tr>\n",
              "\t<tr><td>1</td><td>7</td></tr>\n",
              "</tbody>\n",
              "</table>\n"
            ],
            "text/latex": [
              "\\begin{tabular}{ll}\n",
              "\t 2 & 3\\\\\n",
              "\t 1 & 7\\\\\n",
              "\\end{tabular}\n"
            ],
            "text/markdown": [
              "\n",
              "| 2 | 3 |\n",
              "| 1 | 7 |\n",
              "\n"
            ],
            "text/plain": [
              "     [,1] [,2]\n",
              "[1,] 2    3   \n",
              "[2,] 1    7   "
            ]
          },
          "metadata": {},
          "output_type": "display_data"
        }
      ],
      "source": [
        "A[ ,c(1,3)]  # the 1st and 3rd columns"
      ]
    },
    {
      "cell_type": "code",
      "execution_count": null,
      "metadata": {
        "id": "EfMKWMYd4FNC",
        "outputId": "05eb76fb-ae9d-44d6-8a5f-60a015a445bb"
      },
      "outputs": [
        {
          "data": {
            "text/html": [
              "<table>\n",
              "<thead><tr><th></th><th scope=col>col1</th><th scope=col>col2</th><th scope=col>col3</th></tr></thead>\n",
              "<tbody>\n",
              "\t<tr><th scope=row>row1</th><td>2</td><td>4</td><td>3</td></tr>\n",
              "\t<tr><th scope=row>row2</th><td>1</td><td>5</td><td>7</td></tr>\n",
              "</tbody>\n",
              "</table>\n"
            ],
            "text/latex": [
              "\\begin{tabular}{r|lll}\n",
              "  & col1 & col2 & col3\\\\\n",
              "\\hline\n",
              "\trow1 & 2 & 4 & 3\\\\\n",
              "\trow2 & 1 & 5 & 7\\\\\n",
              "\\end{tabular}\n"
            ],
            "text/markdown": [
              "\n",
              "| <!--/--> | col1 | col2 | col3 |\n",
              "|---|---|---|---|\n",
              "| row1 | 2 | 4 | 3 |\n",
              "| row2 | 1 | 5 | 7 |\n",
              "\n"
            ],
            "text/plain": [
              "     col1 col2 col3\n",
              "row1 2    4    3   \n",
              "row2 1    5    7   "
            ]
          },
          "metadata": {},
          "output_type": "display_data"
        }
      ],
      "source": [
        " dimnames(A) = list(\n",
        "     c(\"row1\", \"row2\"),         # row names\n",
        "     c(\"col1\", \"col2\", \"col3\")) # column names\n",
        "A"
      ]
    },
    {
      "cell_type": "code",
      "execution_count": null,
      "metadata": {
        "id": "AMj_7NzP4FNC",
        "outputId": "459f3b17-f0be-45cd-b93f-e590de1fd2ad"
      },
      "outputs": [
        {
          "data": {
            "text/html": [
              "7"
            ],
            "text/latex": [
              "7"
            ],
            "text/markdown": [
              "7"
            ],
            "text/plain": [
              "[1] 7"
            ]
          },
          "metadata": {},
          "output_type": "display_data"
        }
      ],
      "source": [
        "A[\"row2\", \"col3\"] # element at 2nd row, 3rd column"
      ]
    },
    {
      "cell_type": "code",
      "execution_count": null,
      "metadata": {
        "id": "bqbEJZ0z4FND",
        "outputId": "ba7bf55c-fe50-40ac-9f4b-9c6803b1cecc"
      },
      "outputs": [
        {
          "data": {
            "text/html": [
              "<table>\n",
              "<tbody>\n",
              "\t<tr><td>2</td><td>1</td></tr>\n",
              "\t<tr><td>4</td><td>5</td></tr>\n",
              "\t<tr><td>3</td><td>7</td></tr>\n",
              "</tbody>\n",
              "</table>\n"
            ],
            "text/latex": [
              "\\begin{tabular}{ll}\n",
              "\t 2 & 1\\\\\n",
              "\t 4 & 5\\\\\n",
              "\t 3 & 7\\\\\n",
              "\\end{tabular}\n"
            ],
            "text/markdown": [
              "\n",
              "| 2 | 1 |\n",
              "| 4 | 5 |\n",
              "| 3 | 7 |\n",
              "\n"
            ],
            "text/plain": [
              "     [,1] [,2]\n",
              "[1,] 2    1   \n",
              "[2,] 4    5   \n",
              "[3,] 3    7   "
            ]
          },
          "metadata": {},
          "output_type": "display_data"
        }
      ],
      "source": [
        " B = matrix(\n",
        "     c(2, 4, 3, 1, 5, 7),\n",
        "     nrow=3,\n",
        "     ncol=2)\n",
        "B"
      ]
    },
    {
      "cell_type": "code",
      "execution_count": null,
      "metadata": {
        "id": "tLpQdWqY4FND",
        "outputId": "41b3d56f-c47a-4480-84fa-ee82d36ad11f"
      },
      "outputs": [
        {
          "data": {
            "text/html": [
              "<table>\n",
              "<tbody>\n",
              "\t<tr><td>2</td><td>4</td><td>3</td></tr>\n",
              "\t<tr><td>1</td><td>5</td><td>7</td></tr>\n",
              "</tbody>\n",
              "</table>\n"
            ],
            "text/latex": [
              "\\begin{tabular}{lll}\n",
              "\t 2 & 4 & 3\\\\\n",
              "\t 1 & 5 & 7\\\\\n",
              "\\end{tabular}\n"
            ],
            "text/markdown": [
              "\n",
              "| 2 | 4 | 3 |\n",
              "| 1 | 5 | 7 |\n",
              "\n"
            ],
            "text/plain": [
              "     [,1] [,2] [,3]\n",
              "[1,] 2    4    3   \n",
              "[2,] 1    5    7   "
            ]
          },
          "metadata": {},
          "output_type": "display_data"
        }
      ],
      "source": [
        " t(B)          # transpose of B"
      ]
    },
    {
      "cell_type": "code",
      "execution_count": null,
      "metadata": {
        "id": "7kwFfkfK4FND",
        "outputId": "f0a031b0-4cbd-4f3b-f984-cde639af6588"
      },
      "outputs": [
        {
          "data": {
            "text/html": [
              "<table>\n",
              "<tbody>\n",
              "\t<tr><td>7</td></tr>\n",
              "\t<tr><td>4</td></tr>\n",
              "\t<tr><td>2</td></tr>\n",
              "</tbody>\n",
              "</table>\n"
            ],
            "text/latex": [
              "\\begin{tabular}{l}\n",
              "\t 7\\\\\n",
              "\t 4\\\\\n",
              "\t 2\\\\\n",
              "\\end{tabular}\n"
            ],
            "text/markdown": [
              "\n",
              "| 7 |\n",
              "| 4 |\n",
              "| 2 |\n",
              "\n"
            ],
            "text/plain": [
              "     [,1]\n",
              "[1,] 7   \n",
              "[2,] 4   \n",
              "[3,] 2   "
            ]
          },
          "metadata": {},
          "output_type": "display_data"
        }
      ],
      "source": [
        "# Combining Matrices\n",
        "C = matrix(\n",
        "    c(7, 4, 2),\n",
        "    nrow=3,\n",
        "    ncol=1)\n",
        "C"
      ]
    },
    {
      "cell_type": "code",
      "execution_count": null,
      "metadata": {
        "id": "diAVtaQA4FND",
        "outputId": "1a4ccb83-be21-40cb-e8b6-cd6406cc5f9f"
      },
      "outputs": [
        {
          "data": {
            "text/html": [
              "<table>\n",
              "<tbody>\n",
              "\t<tr><td>2</td><td>1</td><td>7</td></tr>\n",
              "\t<tr><td>4</td><td>5</td><td>4</td></tr>\n",
              "\t<tr><td>3</td><td>7</td><td>2</td></tr>\n",
              "</tbody>\n",
              "</table>\n"
            ],
            "text/latex": [
              "\\begin{tabular}{lll}\n",
              "\t 2 & 1 & 7\\\\\n",
              "\t 4 & 5 & 4\\\\\n",
              "\t 3 & 7 & 2\\\\\n",
              "\\end{tabular}\n"
            ],
            "text/markdown": [
              "\n",
              "| 2 | 1 | 7 |\n",
              "| 4 | 5 | 4 |\n",
              "| 3 | 7 | 2 |\n",
              "\n"
            ],
            "text/plain": [
              "     [,1] [,2] [,3]\n",
              "[1,] 2    1    7   \n",
              "[2,] 4    5    4   \n",
              "[3,] 3    7    2   "
            ]
          },
          "metadata": {},
          "output_type": "display_data"
        }
      ],
      "source": [
        "cbind(B, C)"
      ]
    },
    {
      "cell_type": "code",
      "execution_count": null,
      "metadata": {
        "id": "i5m1Iekm4FNE",
        "outputId": "a1f4359e-830a-4577-bb1b-636c97979974"
      },
      "outputs": [
        {
          "data": {
            "text/html": [
              "<table>\n",
              "<tbody>\n",
              "\t<tr><td>6</td><td>2</td></tr>\n",
              "</tbody>\n",
              "</table>\n"
            ],
            "text/latex": [
              "\\begin{tabular}{ll}\n",
              "\t 6 & 2\\\\\n",
              "\\end{tabular}\n"
            ],
            "text/markdown": [
              "\n",
              "| 6 | 2 |\n",
              "\n"
            ],
            "text/plain": [
              "     [,1] [,2]\n",
              "[1,] 6    2   "
            ]
          },
          "metadata": {},
          "output_type": "display_data"
        }
      ],
      "source": [
        "D = matrix(\n",
        "    c(6, 2),\n",
        "    nrow=1,\n",
        "    ncol=2)\n",
        "D"
      ]
    },
    {
      "cell_type": "code",
      "execution_count": null,
      "metadata": {
        "id": "ToDDOpEb4FNF",
        "outputId": "bdea615f-7800-47ec-f2b7-7d1d56e1ccce"
      },
      "outputs": [
        {
          "data": {
            "text/html": [
              "<table>\n",
              "<tbody>\n",
              "\t<tr><td>2</td><td>1</td></tr>\n",
              "\t<tr><td>4</td><td>5</td></tr>\n",
              "\t<tr><td>3</td><td>7</td></tr>\n",
              "\t<tr><td>6</td><td>2</td></tr>\n",
              "</tbody>\n",
              "</table>\n"
            ],
            "text/latex": [
              "\\begin{tabular}{ll}\n",
              "\t 2 & 1\\\\\n",
              "\t 4 & 5\\\\\n",
              "\t 3 & 7\\\\\n",
              "\t 6 & 2\\\\\n",
              "\\end{tabular}\n"
            ],
            "text/markdown": [
              "\n",
              "| 2 | 1 |\n",
              "| 4 | 5 |\n",
              "| 3 | 7 |\n",
              "| 6 | 2 |\n",
              "\n"
            ],
            "text/plain": [
              "     [,1] [,2]\n",
              "[1,] 2    1   \n",
              "[2,] 4    5   \n",
              "[3,] 3    7   \n",
              "[4,] 6    2   "
            ]
          },
          "metadata": {},
          "output_type": "display_data"
        }
      ],
      "source": [
        "rbind(B, D)"
      ]
    },
    {
      "cell_type": "code",
      "execution_count": null,
      "metadata": {
        "id": "pmAjTu5T4FNF",
        "outputId": "be9dddae-868f-44ca-d0b5-1294ecc12036"
      },
      "outputs": [
        {
          "data": {
            "text/html": [
              "<ol class=list-inline>\n",
              "\t<li>2</li>\n",
              "\t<li>4</li>\n",
              "\t<li>3</li>\n",
              "\t<li>1</li>\n",
              "\t<li>5</li>\n",
              "\t<li>7</li>\n",
              "</ol>\n"
            ],
            "text/latex": [
              "\\begin{enumerate*}\n",
              "\\item 2\n",
              "\\item 4\n",
              "\\item 3\n",
              "\\item 1\n",
              "\\item 5\n",
              "\\item 7\n",
              "\\end{enumerate*}\n"
            ],
            "text/markdown": [
              "1. 2\n",
              "2. 4\n",
              "3. 3\n",
              "4. 1\n",
              "5. 5\n",
              "6. 7\n",
              "\n",
              "\n"
            ],
            "text/plain": [
              "[1] 2 4 3 1 5 7"
            ]
          },
          "metadata": {},
          "output_type": "display_data"
        }
      ],
      "source": [
        "# Matrix deconstruction\n",
        "c(B)"
      ]
    },
    {
      "cell_type": "code",
      "execution_count": null,
      "metadata": {
        "id": "c-19YZmS4FNF"
      },
      "outputs": [],
      "source": []
    }
  ],
  "metadata": {
    "kernelspec": {
      "display_name": "R",
      "language": "R",
      "name": "ir"
    },
    "language_info": {
      "codemirror_mode": "r",
      "file_extension": ".r",
      "mimetype": "text/x-r-source",
      "name": "R",
      "pygments_lexer": "r",
      "version": "3.6.1"
    },
    "colab": {
      "provenance": [],
      "include_colab_link": true
    }
  },
  "nbformat": 4,
  "nbformat_minor": 0
}